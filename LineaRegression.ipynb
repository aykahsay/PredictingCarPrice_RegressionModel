{
 "cells": [
  {
   "cell_type": "markdown",
   "id": "fa8836f9-c661-47d3-985d-4fabb8dbf4d6",
   "metadata": {},
   "source": [
    "## LinearRegression vs Rigid Model: Predicting Price of car with Important Features"
   ]
  },
  {
   "cell_type": "code",
   "execution_count": null,
   "id": "9cfe74db-a099-4791-99b3-c4ee226d4a3d",
   "metadata": {},
   "outputs": [],
   "source": [
    "#Importnat Libraries\n",
    "import pandas as pd\n",
    "import numpy as np\n",
    "import seaborn as sns\n",
    "import matplotlib.pyplot as plt\n",
    "\n",
    "from sklearn.model_selection import train_test_split\n",
    "from sklearn.linear_model import LinearRegression\n",
    "from sklearn.metrics import mean_absolute_error\n",
    "from sklearn.utils.validation import check_is_fitted\n",
    "from sklearn.preprocessing import StandardScaler\n",
    "from sklearn.decomposition import PCA\n",
    "from sklearn.pipeline import make_pipeline\n",
    "from sklearn.linear_model import Ridge\n",
    "from sklearn.model_selection import cross_val_score\n",
    "\n",
    "from category_encoders import OneHotEncoder  # If using `use_cat_names=True`\n",
    "import statsmodels.api as sm\n",
    "from statsmodels.stats.outliers_influence import variance_inflation_factor"
   ]
  },
  {
   "cell_type": "markdown",
   "id": "110674d9-55bf-4437-8d4c-6ae7e32cfc22",
   "metadata": {},
   "source": [
    "\n",
    "## Data Import"
   ]
  },
  {
   "cell_type": "code",
   "execution_count": 98,
   "id": "45cafe5d-9ce7-4adb-b06a-c7dff4aed54a",
   "metadata": {},
   "outputs": [
    {
     "name": "stdout",
     "output_type": "stream",
     "text": [
      "   symboling normalized-losses         make fuel-type aspiration num-of-doors  \\\n",
      "0          3                 ?  alfa-romero       gas        std          two   \n",
      "1          3                 ?  alfa-romero       gas        std          two   \n",
      "2          1                 ?  alfa-romero       gas        std          two   \n",
      "3          2               164         audi       gas        std         four   \n",
      "4          2               164         audi       gas        std         four   \n",
      "\n",
      "    body-style drive-wheels engine-location  wheel-base  ...  engine-size  \\\n",
      "0  convertible          rwd           front        88.6  ...          130   \n",
      "1  convertible          rwd           front        88.6  ...          130   \n",
      "2    hatchback          rwd           front        94.5  ...          152   \n",
      "3        sedan          fwd           front        99.8  ...          109   \n",
      "4        sedan          4wd           front        99.4  ...          136   \n",
      "\n",
      "   fuel-system  bore  stroke compression-ratio horsepower  peak-rpm city-mpg  \\\n",
      "0         mpfi  3.47    2.68               9.0        111      5000       21   \n",
      "1         mpfi  3.47    2.68               9.0        111      5000       21   \n",
      "2         mpfi  2.68    3.47               9.0        154      5000       19   \n",
      "3         mpfi  3.19    3.40              10.0        102      5500       24   \n",
      "4         mpfi  3.19    3.40               8.0        115      5500       18   \n",
      "\n",
      "  highway-mpg  price  \n",
      "0          27  13495  \n",
      "1          27  16500  \n",
      "2          26  16500  \n",
      "3          30  13950  \n",
      "4          22  17450  \n",
      "\n",
      "[5 rows x 26 columns]\n"
     ]
    }
   ],
   "source": [
    "# Define column names based on the imports-85.names file\n",
    "column_names = [\n",
    "    \"symboling\", \"normalized-losses\", \"make\", \"fuel-type\", \"aspiration\", \"num-of-doors\",\n",
    "    \"body-style\", \"drive-wheels\", \"engine-location\", \"wheel-base\", \"length\", \"width\",\n",
    "    \"height\", \"curb-weight\", \"engine-type\", \"num-of-cylinders\", \"engine-size\",\n",
    "    \"fuel-system\", \"bore\", \"stroke\", \"compression-ratio\", \"horsepower\", \"peak-rpm\",\n",
    "    \"city-mpg\", \"highway-mpg\", \"price\"\n",
    "]\n",
    "\n",
    "# Load the data\n",
    "df = pd.read_csv(r\"C:\\Users\\Admin\\OneDrive - United States International University (USIU)\\Documents\\KULU_Doc\\Machine learnig\\automobile\\imports-85.data\", names=column_names)\n",
    "\n",
    "# Display the first few rows\n",
    "print(df.head())\n"
   ]
  },
  {
   "cell_type": "markdown",
   "id": "c3f1f727-ff4b-476a-bb2b-326363c1d5cf",
   "metadata": {},
   "source": [
    "##### Check Data Types\n",
    "\n",
    "Since numerical columns should be int64 or float64, any numeric column stored as an object may have non-numeric values."
   ]
  },
  {
   "cell_type": "code",
   "execution_count": 99,
   "id": "a4e31fbf-2600-4eb2-8afa-ed68bbf38139",
   "metadata": {},
   "outputs": [
    {
     "name": "stdout",
     "output_type": "stream",
     "text": [
      "symboling              int64\n",
      "normalized-losses     object\n",
      "make                  object\n",
      "fuel-type             object\n",
      "aspiration            object\n",
      "num-of-doors          object\n",
      "body-style            object\n",
      "drive-wheels          object\n",
      "engine-location       object\n",
      "wheel-base           float64\n",
      "length               float64\n",
      "width                float64\n",
      "height               float64\n",
      "curb-weight            int64\n",
      "engine-type           object\n",
      "num-of-cylinders      object\n",
      "engine-size            int64\n",
      "fuel-system           object\n",
      "bore                  object\n",
      "stroke                object\n",
      "compression-ratio    float64\n",
      "horsepower            object\n",
      "peak-rpm              object\n",
      "city-mpg               int64\n",
      "highway-mpg            int64\n",
      "price                 object\n",
      "dtype: object\n"
     ]
    }
   ],
   "source": [
    "print(df.dtypes)"
   ]
  },
  {
   "cell_type": "markdown",
   "id": "7b25f8c7-da03-4bac-8088-3e6736d18914",
   "metadata": {},
   "source": [
    "##### Observation\n",
    "As we can observe from the above \n",
    "- normalized-losses'-->is Numeric, with \"?\" values\n",
    "- 'make',-->is Object data type\n",
    "- 'fuel-type',-->Object\n",
    "- 'aspiration',--> Object\n",
    "- 'num-of-doors',-->is not Object data type but 2,4 are written in words and contians \"?\" \n",
    "- 'body-style',--->is Object data type\n",
    "- 'drive-wheels',--->numeric\n",
    "- 'engine-location',--->object\n",
    "- 'engine-type',---> Object\n",
    "- 'num-of-cylinders'---->Numeric\n",
    "- 'fuel-system'--->Numeric\n",
    "- 'bore'---->Numeric\n",
    "- 'stroke'--->Numeric\n",
    "- 'horsepower'---->Numeric\n",
    "- 'peak-rpm',--->Numeric\n",
    "- price'---->Numeric"
   ]
  },
  {
   "cell_type": "code",
   "execution_count": 100,
   "id": "8c12c120-9524-4aad-b705-b1f3b93aecfc",
   "metadata": {},
   "outputs": [
    {
     "data": {
      "text/plain": [
       "Index(['normalized-losses', 'make', 'fuel-type', 'aspiration', 'num-of-doors',\n",
       "       'body-style', 'drive-wheels', 'engine-location', 'engine-type',\n",
       "       'num-of-cylinders', 'fuel-system', 'bore', 'stroke', 'horsepower',\n",
       "       'peak-rpm', 'price'],\n",
       "      dtype='object')"
      ]
     },
     "execution_count": 100,
     "metadata": {},
     "output_type": "execute_result"
    }
   ],
   "source": [
    "df.select_dtypes(include=[\"object\"]).columns"
   ]
  },
  {
   "cell_type": "markdown",
   "id": "d8b9e0d6-7941-4e8f-afc8-535eeaf28b64",
   "metadata": {},
   "source": [
    "#### Replace \"?\" with NaN and Convert to Numeric"
   ]
  },
  {
   "cell_type": "code",
   "execution_count": 101,
   "id": "7e10b6f0-33bb-4dc8-a16e-8671081c1cc9",
   "metadata": {},
   "outputs": [
    {
     "data": {
      "application/vnd.microsoft.datawrangler.viewer.v0+json": {
       "columns": [
        {
         "name": "index",
         "rawType": "int64",
         "type": "integer"
        },
        {
         "name": "symboling",
         "rawType": "int64",
         "type": "integer"
        },
        {
         "name": "normalized-losses",
         "rawType": "object",
         "type": "unknown"
        },
        {
         "name": "make",
         "rawType": "object",
         "type": "string"
        },
        {
         "name": "fuel-type",
         "rawType": "object",
         "type": "string"
        },
        {
         "name": "aspiration",
         "rawType": "object",
         "type": "string"
        },
        {
         "name": "num-of-doors",
         "rawType": "object",
         "type": "string"
        },
        {
         "name": "body-style",
         "rawType": "object",
         "type": "string"
        },
        {
         "name": "drive-wheels",
         "rawType": "object",
         "type": "string"
        },
        {
         "name": "engine-location",
         "rawType": "object",
         "type": "string"
        },
        {
         "name": "wheel-base",
         "rawType": "float64",
         "type": "float"
        },
        {
         "name": "length",
         "rawType": "float64",
         "type": "float"
        },
        {
         "name": "width",
         "rawType": "float64",
         "type": "float"
        },
        {
         "name": "height",
         "rawType": "float64",
         "type": "float"
        },
        {
         "name": "curb-weight",
         "rawType": "int64",
         "type": "integer"
        },
        {
         "name": "engine-type",
         "rawType": "object",
         "type": "string"
        },
        {
         "name": "num-of-cylinders",
         "rawType": "object",
         "type": "string"
        },
        {
         "name": "engine-size",
         "rawType": "int64",
         "type": "integer"
        },
        {
         "name": "fuel-system",
         "rawType": "object",
         "type": "string"
        },
        {
         "name": "bore",
         "rawType": "object",
         "type": "string"
        },
        {
         "name": "stroke",
         "rawType": "object",
         "type": "string"
        },
        {
         "name": "compression-ratio",
         "rawType": "float64",
         "type": "float"
        },
        {
         "name": "horsepower",
         "rawType": "object",
         "type": "string"
        },
        {
         "name": "peak-rpm",
         "rawType": "object",
         "type": "string"
        },
        {
         "name": "city-mpg",
         "rawType": "int64",
         "type": "integer"
        },
        {
         "name": "highway-mpg",
         "rawType": "int64",
         "type": "integer"
        },
        {
         "name": "price",
         "rawType": "object",
         "type": "string"
        }
       ],
       "conversionMethod": "pd.DataFrame",
       "ref": "7c6fe607-8904-48bd-b6d3-d9867c3c011c",
       "rows": [
        [
         "0",
         "3",
         null,
         "alfa-romero",
         "gas",
         "std",
         "two",
         "convertible",
         "rwd",
         "front",
         "88.6",
         "168.8",
         "64.1",
         "48.8",
         "2548",
         "dohc",
         "four",
         "130",
         "mpfi",
         "3.47",
         "2.68",
         "9.0",
         "111",
         "5000",
         "21",
         "27",
         "13495"
        ],
        [
         "1",
         "3",
         null,
         "alfa-romero",
         "gas",
         "std",
         "two",
         "convertible",
         "rwd",
         "front",
         "88.6",
         "168.8",
         "64.1",
         "48.8",
         "2548",
         "dohc",
         "four",
         "130",
         "mpfi",
         "3.47",
         "2.68",
         "9.0",
         "111",
         "5000",
         "21",
         "27",
         "16500"
        ],
        [
         "2",
         "1",
         null,
         "alfa-romero",
         "gas",
         "std",
         "two",
         "hatchback",
         "rwd",
         "front",
         "94.5",
         "171.2",
         "65.5",
         "52.4",
         "2823",
         "ohcv",
         "six",
         "152",
         "mpfi",
         "2.68",
         "3.47",
         "9.0",
         "154",
         "5000",
         "19",
         "26",
         "16500"
        ],
        [
         "3",
         "2",
         "164",
         "audi",
         "gas",
         "std",
         "four",
         "sedan",
         "fwd",
         "front",
         "99.8",
         "176.6",
         "66.2",
         "54.3",
         "2337",
         "ohc",
         "four",
         "109",
         "mpfi",
         "3.19",
         "3.40",
         "10.0",
         "102",
         "5500",
         "24",
         "30",
         "13950"
        ],
        [
         "4",
         "2",
         "164",
         "audi",
         "gas",
         "std",
         "four",
         "sedan",
         "4wd",
         "front",
         "99.4",
         "176.6",
         "66.4",
         "54.3",
         "2824",
         "ohc",
         "five",
         "136",
         "mpfi",
         "3.19",
         "3.40",
         "8.0",
         "115",
         "5500",
         "18",
         "22",
         "17450"
        ]
       ],
       "shape": {
        "columns": 26,
        "rows": 5
       }
      },
      "text/html": [
       "<div>\n",
       "<style scoped>\n",
       "    .dataframe tbody tr th:only-of-type {\n",
       "        vertical-align: middle;\n",
       "    }\n",
       "\n",
       "    .dataframe tbody tr th {\n",
       "        vertical-align: top;\n",
       "    }\n",
       "\n",
       "    .dataframe thead th {\n",
       "        text-align: right;\n",
       "    }\n",
       "</style>\n",
       "<table border=\"1\" class=\"dataframe\">\n",
       "  <thead>\n",
       "    <tr style=\"text-align: right;\">\n",
       "      <th></th>\n",
       "      <th>symboling</th>\n",
       "      <th>normalized-losses</th>\n",
       "      <th>make</th>\n",
       "      <th>fuel-type</th>\n",
       "      <th>aspiration</th>\n",
       "      <th>num-of-doors</th>\n",
       "      <th>body-style</th>\n",
       "      <th>drive-wheels</th>\n",
       "      <th>engine-location</th>\n",
       "      <th>wheel-base</th>\n",
       "      <th>...</th>\n",
       "      <th>engine-size</th>\n",
       "      <th>fuel-system</th>\n",
       "      <th>bore</th>\n",
       "      <th>stroke</th>\n",
       "      <th>compression-ratio</th>\n",
       "      <th>horsepower</th>\n",
       "      <th>peak-rpm</th>\n",
       "      <th>city-mpg</th>\n",
       "      <th>highway-mpg</th>\n",
       "      <th>price</th>\n",
       "    </tr>\n",
       "  </thead>\n",
       "  <tbody>\n",
       "    <tr>\n",
       "      <th>0</th>\n",
       "      <td>3</td>\n",
       "      <td>NaN</td>\n",
       "      <td>alfa-romero</td>\n",
       "      <td>gas</td>\n",
       "      <td>std</td>\n",
       "      <td>two</td>\n",
       "      <td>convertible</td>\n",
       "      <td>rwd</td>\n",
       "      <td>front</td>\n",
       "      <td>88.6</td>\n",
       "      <td>...</td>\n",
       "      <td>130</td>\n",
       "      <td>mpfi</td>\n",
       "      <td>3.47</td>\n",
       "      <td>2.68</td>\n",
       "      <td>9.0</td>\n",
       "      <td>111</td>\n",
       "      <td>5000</td>\n",
       "      <td>21</td>\n",
       "      <td>27</td>\n",
       "      <td>13495</td>\n",
       "    </tr>\n",
       "    <tr>\n",
       "      <th>1</th>\n",
       "      <td>3</td>\n",
       "      <td>NaN</td>\n",
       "      <td>alfa-romero</td>\n",
       "      <td>gas</td>\n",
       "      <td>std</td>\n",
       "      <td>two</td>\n",
       "      <td>convertible</td>\n",
       "      <td>rwd</td>\n",
       "      <td>front</td>\n",
       "      <td>88.6</td>\n",
       "      <td>...</td>\n",
       "      <td>130</td>\n",
       "      <td>mpfi</td>\n",
       "      <td>3.47</td>\n",
       "      <td>2.68</td>\n",
       "      <td>9.0</td>\n",
       "      <td>111</td>\n",
       "      <td>5000</td>\n",
       "      <td>21</td>\n",
       "      <td>27</td>\n",
       "      <td>16500</td>\n",
       "    </tr>\n",
       "    <tr>\n",
       "      <th>2</th>\n",
       "      <td>1</td>\n",
       "      <td>NaN</td>\n",
       "      <td>alfa-romero</td>\n",
       "      <td>gas</td>\n",
       "      <td>std</td>\n",
       "      <td>two</td>\n",
       "      <td>hatchback</td>\n",
       "      <td>rwd</td>\n",
       "      <td>front</td>\n",
       "      <td>94.5</td>\n",
       "      <td>...</td>\n",
       "      <td>152</td>\n",
       "      <td>mpfi</td>\n",
       "      <td>2.68</td>\n",
       "      <td>3.47</td>\n",
       "      <td>9.0</td>\n",
       "      <td>154</td>\n",
       "      <td>5000</td>\n",
       "      <td>19</td>\n",
       "      <td>26</td>\n",
       "      <td>16500</td>\n",
       "    </tr>\n",
       "    <tr>\n",
       "      <th>3</th>\n",
       "      <td>2</td>\n",
       "      <td>164</td>\n",
       "      <td>audi</td>\n",
       "      <td>gas</td>\n",
       "      <td>std</td>\n",
       "      <td>four</td>\n",
       "      <td>sedan</td>\n",
       "      <td>fwd</td>\n",
       "      <td>front</td>\n",
       "      <td>99.8</td>\n",
       "      <td>...</td>\n",
       "      <td>109</td>\n",
       "      <td>mpfi</td>\n",
       "      <td>3.19</td>\n",
       "      <td>3.40</td>\n",
       "      <td>10.0</td>\n",
       "      <td>102</td>\n",
       "      <td>5500</td>\n",
       "      <td>24</td>\n",
       "      <td>30</td>\n",
       "      <td>13950</td>\n",
       "    </tr>\n",
       "    <tr>\n",
       "      <th>4</th>\n",
       "      <td>2</td>\n",
       "      <td>164</td>\n",
       "      <td>audi</td>\n",
       "      <td>gas</td>\n",
       "      <td>std</td>\n",
       "      <td>four</td>\n",
       "      <td>sedan</td>\n",
       "      <td>4wd</td>\n",
       "      <td>front</td>\n",
       "      <td>99.4</td>\n",
       "      <td>...</td>\n",
       "      <td>136</td>\n",
       "      <td>mpfi</td>\n",
       "      <td>3.19</td>\n",
       "      <td>3.40</td>\n",
       "      <td>8.0</td>\n",
       "      <td>115</td>\n",
       "      <td>5500</td>\n",
       "      <td>18</td>\n",
       "      <td>22</td>\n",
       "      <td>17450</td>\n",
       "    </tr>\n",
       "  </tbody>\n",
       "</table>\n",
       "<p>5 rows × 26 columns</p>\n",
       "</div>"
      ],
      "text/plain": [
       "   symboling normalized-losses         make fuel-type aspiration num-of-doors  \\\n",
       "0          3               NaN  alfa-romero       gas        std          two   \n",
       "1          3               NaN  alfa-romero       gas        std          two   \n",
       "2          1               NaN  alfa-romero       gas        std          two   \n",
       "3          2               164         audi       gas        std         four   \n",
       "4          2               164         audi       gas        std         four   \n",
       "\n",
       "    body-style drive-wheels engine-location  wheel-base  ...  engine-size  \\\n",
       "0  convertible          rwd           front        88.6  ...          130   \n",
       "1  convertible          rwd           front        88.6  ...          130   \n",
       "2    hatchback          rwd           front        94.5  ...          152   \n",
       "3        sedan          fwd           front        99.8  ...          109   \n",
       "4        sedan          4wd           front        99.4  ...          136   \n",
       "\n",
       "   fuel-system  bore  stroke compression-ratio horsepower  peak-rpm city-mpg  \\\n",
       "0         mpfi  3.47    2.68               9.0        111      5000       21   \n",
       "1         mpfi  3.47    2.68               9.0        111      5000       21   \n",
       "2         mpfi  2.68    3.47               9.0        154      5000       19   \n",
       "3         mpfi  3.19    3.40              10.0        102      5500       24   \n",
       "4         mpfi  3.19    3.40               8.0        115      5500       18   \n",
       "\n",
       "  highway-mpg  price  \n",
       "0          27  13495  \n",
       "1          27  16500  \n",
       "2          26  16500  \n",
       "3          30  13950  \n",
       "4          22  17450  \n",
       "\n",
       "[5 rows x 26 columns]"
      ]
     },
     "execution_count": 101,
     "metadata": {},
     "output_type": "execute_result"
    }
   ],
   "source": [
    "# Replace '?' with NaN\n",
    "df.replace('?', np.nan, inplace=True)\n",
    "df.head()"
   ]
  },
  {
   "cell_type": "code",
   "execution_count": 102,
   "id": "e61c8966-35c3-4359-b800-967eb93262a9",
   "metadata": {},
   "outputs": [
    {
     "name": "stdout",
     "output_type": "stream",
     "text": [
      "<class 'pandas.core.frame.DataFrame'>\n",
      "RangeIndex: 205 entries, 0 to 204\n",
      "Data columns (total 26 columns):\n",
      " #   Column             Non-Null Count  Dtype  \n",
      "---  ------             --------------  -----  \n",
      " 0   symboling          205 non-null    int64  \n",
      " 1   normalized-losses  164 non-null    object \n",
      " 2   make               205 non-null    object \n",
      " 3   fuel-type          205 non-null    object \n",
      " 4   aspiration         205 non-null    object \n",
      " 5   num-of-doors       203 non-null    object \n",
      " 6   body-style         205 non-null    object \n",
      " 7   drive-wheels       205 non-null    object \n",
      " 8   engine-location    205 non-null    object \n",
      " 9   wheel-base         205 non-null    float64\n",
      " 10  length             205 non-null    float64\n",
      " 11  width              205 non-null    float64\n",
      " 12  height             205 non-null    float64\n",
      " 13  curb-weight        205 non-null    int64  \n",
      " 14  engine-type        205 non-null    object \n",
      " 15  num-of-cylinders   205 non-null    object \n",
      " 16  engine-size        205 non-null    int64  \n",
      " 17  fuel-system        205 non-null    object \n",
      " 18  bore               201 non-null    object \n",
      " 19  stroke             201 non-null    object \n",
      " 20  compression-ratio  205 non-null    float64\n",
      " 21  horsepower         203 non-null    object \n",
      " 22  peak-rpm           203 non-null    object \n",
      " 23  city-mpg           205 non-null    int64  \n",
      " 24  highway-mpg        205 non-null    int64  \n",
      " 25  price              201 non-null    object \n",
      "dtypes: float64(5), int64(5), object(16)\n",
      "memory usage: 41.8+ KB\n"
     ]
    }
   ],
   "source": [
    "df.info()"
   ]
  },
  {
   "cell_type": "markdown",
   "id": "c0fe2145-0e08-4cd1-ae63-e2c7042f3139",
   "metadata": {},
   "source": [
    "##### For num-of-cylindersvand num-of-doors\n",
    "- contain numbers written as words, we should convert them to numerical values."
   ]
  },
  {
   "cell_type": "code",
   "execution_count": 103,
   "id": "94cc54ca",
   "metadata": {},
   "outputs": [
    {
     "data": {
      "text/plain": [
       "num-of-doors\n",
       "four    114\n",
       "two      89\n",
       "Name: count, dtype: int64"
      ]
     },
     "execution_count": 103,
     "metadata": {},
     "output_type": "execute_result"
    }
   ],
   "source": [
    "df[\"num-of-doors\"].value_counts()"
   ]
  },
  {
   "cell_type": "markdown",
   "id": "3fdc1edf",
   "metadata": {},
   "source": [
    "- Mapping [number in words to figure]"
   ]
  },
  {
   "cell_type": "code",
   "execution_count": 104,
   "id": "7bf64674",
   "metadata": {},
   "outputs": [],
   "source": [
    "# Mapping\n",
    "\n",
    "# Define mapping of cylinder names to numbers\n",
    "cylinder_mapping = {\n",
    "    \"two\": '2',\n",
    "    \"three\": '3',\n",
    "    \"four\": '4',\n",
    "    \"five\": '5',\n",
    "    \"six\": '6',\n",
    "    \"eight\": '8',\n",
    "    \"twelve\": '12'\n",
    "}\n",
    "\n",
    "# Define mapping of door names to numbers\n",
    "doors_mapping = {\n",
    "    \"two\": '2',\n",
    "    \"four\": '4',\n",
    "}\n",
    "\n",
    "# Apply the mapping\n",
    "df[\"num-of-cylinders\"] = df[\"num-of-cylinders\"].map(cylinder_mapping)\n",
    "df[\"num-of-doors\"] = df[\"num-of-doors\"].map(doors_mapping)\n",
    "\n"
   ]
  },
  {
   "cell_type": "code",
   "execution_count": 105,
   "id": "af9643b4",
   "metadata": {},
   "outputs": [
    {
     "data": {
      "text/plain": [
       "symboling              6\n",
       "normalized-losses     51\n",
       "make                  22\n",
       "fuel-type              2\n",
       "aspiration             2\n",
       "num-of-doors           2\n",
       "body-style             5\n",
       "drive-wheels           3\n",
       "engine-location        2\n",
       "wheel-base            53\n",
       "length                75\n",
       "width                 44\n",
       "height                49\n",
       "curb-weight          171\n",
       "engine-type            7\n",
       "num-of-cylinders       7\n",
       "engine-size           44\n",
       "fuel-system            8\n",
       "bore                  38\n",
       "stroke                36\n",
       "compression-ratio     32\n",
       "horsepower            59\n",
       "peak-rpm              23\n",
       "city-mpg              29\n",
       "highway-mpg           30\n",
       "price                186\n",
       "dtype: int64"
      ]
     },
     "execution_count": 105,
     "metadata": {},
     "output_type": "execute_result"
    }
   ],
   "source": [
    "df.nunique()"
   ]
  },
  {
   "cell_type": "code",
   "execution_count": 106,
   "id": "81952044",
   "metadata": {},
   "outputs": [
    {
     "data": {
      "application/vnd.microsoft.datawrangler.viewer.v0+json": {
       "columns": [
        {
         "name": "index",
         "rawType": "int64",
         "type": "integer"
        },
        {
         "name": "symboling",
         "rawType": "int64",
         "type": "integer"
        },
        {
         "name": "normalized-losses",
         "rawType": "object",
         "type": "unknown"
        },
        {
         "name": "make",
         "rawType": "object",
         "type": "string"
        },
        {
         "name": "fuel-type",
         "rawType": "object",
         "type": "string"
        },
        {
         "name": "aspiration",
         "rawType": "object",
         "type": "string"
        },
        {
         "name": "num-of-doors",
         "rawType": "object",
         "type": "string"
        },
        {
         "name": "body-style",
         "rawType": "object",
         "type": "string"
        },
        {
         "name": "drive-wheels",
         "rawType": "object",
         "type": "string"
        },
        {
         "name": "engine-location",
         "rawType": "object",
         "type": "string"
        },
        {
         "name": "wheel-base",
         "rawType": "float64",
         "type": "float"
        },
        {
         "name": "length",
         "rawType": "float64",
         "type": "float"
        },
        {
         "name": "width",
         "rawType": "float64",
         "type": "float"
        },
        {
         "name": "height",
         "rawType": "float64",
         "type": "float"
        },
        {
         "name": "curb-weight",
         "rawType": "int64",
         "type": "integer"
        },
        {
         "name": "engine-type",
         "rawType": "object",
         "type": "string"
        },
        {
         "name": "num-of-cylinders",
         "rawType": "object",
         "type": "string"
        },
        {
         "name": "engine-size",
         "rawType": "int64",
         "type": "integer"
        },
        {
         "name": "fuel-system",
         "rawType": "object",
         "type": "string"
        },
        {
         "name": "bore",
         "rawType": "object",
         "type": "string"
        },
        {
         "name": "stroke",
         "rawType": "object",
         "type": "string"
        },
        {
         "name": "compression-ratio",
         "rawType": "float64",
         "type": "float"
        },
        {
         "name": "horsepower",
         "rawType": "object",
         "type": "string"
        },
        {
         "name": "peak-rpm",
         "rawType": "object",
         "type": "string"
        },
        {
         "name": "city-mpg",
         "rawType": "int64",
         "type": "integer"
        },
        {
         "name": "highway-mpg",
         "rawType": "int64",
         "type": "integer"
        },
        {
         "name": "price",
         "rawType": "object",
         "type": "string"
        }
       ],
       "conversionMethod": "pd.DataFrame",
       "ref": "445488ac-3880-41af-b650-b580865494bf",
       "rows": [
        [
         "0",
         "3",
         null,
         "alfa-romero",
         "gas",
         "std",
         "2",
         "convertible",
         "rwd",
         "front",
         "88.6",
         "168.8",
         "64.1",
         "48.8",
         "2548",
         "dohc",
         "4",
         "130",
         "mpfi",
         "3.47",
         "2.68",
         "9.0",
         "111",
         "5000",
         "21",
         "27",
         "13495"
        ],
        [
         "1",
         "3",
         null,
         "alfa-romero",
         "gas",
         "std",
         "2",
         "convertible",
         "rwd",
         "front",
         "88.6",
         "168.8",
         "64.1",
         "48.8",
         "2548",
         "dohc",
         "4",
         "130",
         "mpfi",
         "3.47",
         "2.68",
         "9.0",
         "111",
         "5000",
         "21",
         "27",
         "16500"
        ],
        [
         "2",
         "1",
         null,
         "alfa-romero",
         "gas",
         "std",
         "2",
         "hatchback",
         "rwd",
         "front",
         "94.5",
         "171.2",
         "65.5",
         "52.4",
         "2823",
         "ohcv",
         "6",
         "152",
         "mpfi",
         "2.68",
         "3.47",
         "9.0",
         "154",
         "5000",
         "19",
         "26",
         "16500"
        ],
        [
         "3",
         "2",
         "164",
         "audi",
         "gas",
         "std",
         "4",
         "sedan",
         "fwd",
         "front",
         "99.8",
         "176.6",
         "66.2",
         "54.3",
         "2337",
         "ohc",
         "4",
         "109",
         "mpfi",
         "3.19",
         "3.40",
         "10.0",
         "102",
         "5500",
         "24",
         "30",
         "13950"
        ],
        [
         "4",
         "2",
         "164",
         "audi",
         "gas",
         "std",
         "4",
         "sedan",
         "4wd",
         "front",
         "99.4",
         "176.6",
         "66.4",
         "54.3",
         "2824",
         "ohc",
         "5",
         "136",
         "mpfi",
         "3.19",
         "3.40",
         "8.0",
         "115",
         "5500",
         "18",
         "22",
         "17450"
        ]
       ],
       "shape": {
        "columns": 26,
        "rows": 5
       }
      },
      "text/html": [
       "<div>\n",
       "<style scoped>\n",
       "    .dataframe tbody tr th:only-of-type {\n",
       "        vertical-align: middle;\n",
       "    }\n",
       "\n",
       "    .dataframe tbody tr th {\n",
       "        vertical-align: top;\n",
       "    }\n",
       "\n",
       "    .dataframe thead th {\n",
       "        text-align: right;\n",
       "    }\n",
       "</style>\n",
       "<table border=\"1\" class=\"dataframe\">\n",
       "  <thead>\n",
       "    <tr style=\"text-align: right;\">\n",
       "      <th></th>\n",
       "      <th>symboling</th>\n",
       "      <th>normalized-losses</th>\n",
       "      <th>make</th>\n",
       "      <th>fuel-type</th>\n",
       "      <th>aspiration</th>\n",
       "      <th>num-of-doors</th>\n",
       "      <th>body-style</th>\n",
       "      <th>drive-wheels</th>\n",
       "      <th>engine-location</th>\n",
       "      <th>wheel-base</th>\n",
       "      <th>...</th>\n",
       "      <th>engine-size</th>\n",
       "      <th>fuel-system</th>\n",
       "      <th>bore</th>\n",
       "      <th>stroke</th>\n",
       "      <th>compression-ratio</th>\n",
       "      <th>horsepower</th>\n",
       "      <th>peak-rpm</th>\n",
       "      <th>city-mpg</th>\n",
       "      <th>highway-mpg</th>\n",
       "      <th>price</th>\n",
       "    </tr>\n",
       "  </thead>\n",
       "  <tbody>\n",
       "    <tr>\n",
       "      <th>0</th>\n",
       "      <td>3</td>\n",
       "      <td>NaN</td>\n",
       "      <td>alfa-romero</td>\n",
       "      <td>gas</td>\n",
       "      <td>std</td>\n",
       "      <td>2</td>\n",
       "      <td>convertible</td>\n",
       "      <td>rwd</td>\n",
       "      <td>front</td>\n",
       "      <td>88.6</td>\n",
       "      <td>...</td>\n",
       "      <td>130</td>\n",
       "      <td>mpfi</td>\n",
       "      <td>3.47</td>\n",
       "      <td>2.68</td>\n",
       "      <td>9.0</td>\n",
       "      <td>111</td>\n",
       "      <td>5000</td>\n",
       "      <td>21</td>\n",
       "      <td>27</td>\n",
       "      <td>13495</td>\n",
       "    </tr>\n",
       "    <tr>\n",
       "      <th>1</th>\n",
       "      <td>3</td>\n",
       "      <td>NaN</td>\n",
       "      <td>alfa-romero</td>\n",
       "      <td>gas</td>\n",
       "      <td>std</td>\n",
       "      <td>2</td>\n",
       "      <td>convertible</td>\n",
       "      <td>rwd</td>\n",
       "      <td>front</td>\n",
       "      <td>88.6</td>\n",
       "      <td>...</td>\n",
       "      <td>130</td>\n",
       "      <td>mpfi</td>\n",
       "      <td>3.47</td>\n",
       "      <td>2.68</td>\n",
       "      <td>9.0</td>\n",
       "      <td>111</td>\n",
       "      <td>5000</td>\n",
       "      <td>21</td>\n",
       "      <td>27</td>\n",
       "      <td>16500</td>\n",
       "    </tr>\n",
       "    <tr>\n",
       "      <th>2</th>\n",
       "      <td>1</td>\n",
       "      <td>NaN</td>\n",
       "      <td>alfa-romero</td>\n",
       "      <td>gas</td>\n",
       "      <td>std</td>\n",
       "      <td>2</td>\n",
       "      <td>hatchback</td>\n",
       "      <td>rwd</td>\n",
       "      <td>front</td>\n",
       "      <td>94.5</td>\n",
       "      <td>...</td>\n",
       "      <td>152</td>\n",
       "      <td>mpfi</td>\n",
       "      <td>2.68</td>\n",
       "      <td>3.47</td>\n",
       "      <td>9.0</td>\n",
       "      <td>154</td>\n",
       "      <td>5000</td>\n",
       "      <td>19</td>\n",
       "      <td>26</td>\n",
       "      <td>16500</td>\n",
       "    </tr>\n",
       "    <tr>\n",
       "      <th>3</th>\n",
       "      <td>2</td>\n",
       "      <td>164</td>\n",
       "      <td>audi</td>\n",
       "      <td>gas</td>\n",
       "      <td>std</td>\n",
       "      <td>4</td>\n",
       "      <td>sedan</td>\n",
       "      <td>fwd</td>\n",
       "      <td>front</td>\n",
       "      <td>99.8</td>\n",
       "      <td>...</td>\n",
       "      <td>109</td>\n",
       "      <td>mpfi</td>\n",
       "      <td>3.19</td>\n",
       "      <td>3.40</td>\n",
       "      <td>10.0</td>\n",
       "      <td>102</td>\n",
       "      <td>5500</td>\n",
       "      <td>24</td>\n",
       "      <td>30</td>\n",
       "      <td>13950</td>\n",
       "    </tr>\n",
       "    <tr>\n",
       "      <th>4</th>\n",
       "      <td>2</td>\n",
       "      <td>164</td>\n",
       "      <td>audi</td>\n",
       "      <td>gas</td>\n",
       "      <td>std</td>\n",
       "      <td>4</td>\n",
       "      <td>sedan</td>\n",
       "      <td>4wd</td>\n",
       "      <td>front</td>\n",
       "      <td>99.4</td>\n",
       "      <td>...</td>\n",
       "      <td>136</td>\n",
       "      <td>mpfi</td>\n",
       "      <td>3.19</td>\n",
       "      <td>3.40</td>\n",
       "      <td>8.0</td>\n",
       "      <td>115</td>\n",
       "      <td>5500</td>\n",
       "      <td>18</td>\n",
       "      <td>22</td>\n",
       "      <td>17450</td>\n",
       "    </tr>\n",
       "  </tbody>\n",
       "</table>\n",
       "<p>5 rows × 26 columns</p>\n",
       "</div>"
      ],
      "text/plain": [
       "   symboling normalized-losses         make fuel-type aspiration num-of-doors  \\\n",
       "0          3               NaN  alfa-romero       gas        std            2   \n",
       "1          3               NaN  alfa-romero       gas        std            2   \n",
       "2          1               NaN  alfa-romero       gas        std            2   \n",
       "3          2               164         audi       gas        std            4   \n",
       "4          2               164         audi       gas        std            4   \n",
       "\n",
       "    body-style drive-wheels engine-location  wheel-base  ...  engine-size  \\\n",
       "0  convertible          rwd           front        88.6  ...          130   \n",
       "1  convertible          rwd           front        88.6  ...          130   \n",
       "2    hatchback          rwd           front        94.5  ...          152   \n",
       "3        sedan          fwd           front        99.8  ...          109   \n",
       "4        sedan          4wd           front        99.4  ...          136   \n",
       "\n",
       "   fuel-system  bore  stroke compression-ratio horsepower  peak-rpm city-mpg  \\\n",
       "0         mpfi  3.47    2.68               9.0        111      5000       21   \n",
       "1         mpfi  3.47    2.68               9.0        111      5000       21   \n",
       "2         mpfi  2.68    3.47               9.0        154      5000       19   \n",
       "3         mpfi  3.19    3.40              10.0        102      5500       24   \n",
       "4         mpfi  3.19    3.40               8.0        115      5500       18   \n",
       "\n",
       "  highway-mpg  price  \n",
       "0          27  13495  \n",
       "1          27  16500  \n",
       "2          26  16500  \n",
       "3          30  13950  \n",
       "4          22  17450  \n",
       "\n",
       "[5 rows x 26 columns]"
      ]
     },
     "execution_count": 106,
     "metadata": {},
     "output_type": "execute_result"
    }
   ],
   "source": [
    "df.head()"
   ]
  },
  {
   "cell_type": "code",
   "execution_count": 107,
   "id": "c9f891ec",
   "metadata": {},
   "outputs": [
    {
     "name": "stdout",
     "output_type": "stream",
     "text": [
      "<class 'pandas.core.frame.DataFrame'>\n",
      "RangeIndex: 205 entries, 0 to 204\n",
      "Data columns (total 26 columns):\n",
      " #   Column             Non-Null Count  Dtype  \n",
      "---  ------             --------------  -----  \n",
      " 0   symboling          205 non-null    int64  \n",
      " 1   normalized-losses  164 non-null    object \n",
      " 2   make               205 non-null    object \n",
      " 3   fuel-type          205 non-null    object \n",
      " 4   aspiration         205 non-null    object \n",
      " 5   num-of-doors       203 non-null    object \n",
      " 6   body-style         205 non-null    object \n",
      " 7   drive-wheels       205 non-null    object \n",
      " 8   engine-location    205 non-null    object \n",
      " 9   wheel-base         205 non-null    float64\n",
      " 10  length             205 non-null    float64\n",
      " 11  width              205 non-null    float64\n",
      " 12  height             205 non-null    float64\n",
      " 13  curb-weight        205 non-null    int64  \n",
      " 14  engine-type        205 non-null    object \n",
      " 15  num-of-cylinders   205 non-null    object \n",
      " 16  engine-size        205 non-null    int64  \n",
      " 17  fuel-system        205 non-null    object \n",
      " 18  bore               201 non-null    object \n",
      " 19  stroke             201 non-null    object \n",
      " 20  compression-ratio  205 non-null    float64\n",
      " 21  horsepower         203 non-null    object \n",
      " 22  peak-rpm           203 non-null    object \n",
      " 23  city-mpg           205 non-null    int64  \n",
      " 24  highway-mpg        205 non-null    int64  \n",
      " 25  price              201 non-null    object \n",
      "dtypes: float64(5), int64(5), object(16)\n",
      "memory usage: 41.8+ KB\n"
     ]
    }
   ],
   "source": [
    "df.info()"
   ]
  },
  {
   "cell_type": "markdown",
   "id": "9ca1f8aa",
   "metadata": {},
   "source": [
    "#### Object Variable to Number\n"
   ]
  },
  {
   "cell_type": "code",
   "execution_count": 108,
   "id": "a9db71bd",
   "metadata": {},
   "outputs": [],
   "source": [
    "# Convert to numeric (ensures data type change)\n",
    "df[\"num-of-cylinders\"] = pd.to_numeric(df[\"num-of-cylinders\"])\n",
    "df[\"num-of-doors\"] = pd.to_numeric(df[\"num-of-doors\"])\n",
    "df[\"normalized-losses\"] = pd.to_numeric(df[\"normalized-losses\"])\n",
    "df[\"bore\"] = pd.to_numeric(df[\"bore\"])\n",
    "df[\"stroke\"] = pd.to_numeric(df[\"stroke\"])\n",
    "df[\"horsepower\"] = pd.to_numeric(df[\"horsepower\"])\n",
    "df[\"peak-rpm\"] = pd.to_numeric(df[\"peak-rpm\"])\n",
    "df[\"city-mpg\"] = pd.to_numeric(df[\"city-mpg\"])\n",
    "df[\"highway-mpg\"] = pd.to_numeric(df[\"highway-mpg\"])\n",
    "df[\"engine-size\"] = pd.to_numeric(df[\"engine-size\"])\n",
    "df[\"price\"] = pd.to_numeric(df[\"price\"])"
   ]
  },
  {
   "cell_type": "code",
   "execution_count": 109,
   "id": "bb8a29e2",
   "metadata": {},
   "outputs": [
    {
     "name": "stdout",
     "output_type": "stream",
     "text": [
      "<class 'pandas.core.frame.DataFrame'>\n",
      "RangeIndex: 205 entries, 0 to 204\n",
      "Data columns (total 26 columns):\n",
      " #   Column             Non-Null Count  Dtype  \n",
      "---  ------             --------------  -----  \n",
      " 0   symboling          205 non-null    int64  \n",
      " 1   normalized-losses  164 non-null    float64\n",
      " 2   make               205 non-null    object \n",
      " 3   fuel-type          205 non-null    object \n",
      " 4   aspiration         205 non-null    object \n",
      " 5   num-of-doors       203 non-null    float64\n",
      " 6   body-style         205 non-null    object \n",
      " 7   drive-wheels       205 non-null    object \n",
      " 8   engine-location    205 non-null    object \n",
      " 9   wheel-base         205 non-null    float64\n",
      " 10  length             205 non-null    float64\n",
      " 11  width              205 non-null    float64\n",
      " 12  height             205 non-null    float64\n",
      " 13  curb-weight        205 non-null    int64  \n",
      " 14  engine-type        205 non-null    object \n",
      " 15  num-of-cylinders   205 non-null    int64  \n",
      " 16  engine-size        205 non-null    int64  \n",
      " 17  fuel-system        205 non-null    object \n",
      " 18  bore               201 non-null    float64\n",
      " 19  stroke             201 non-null    float64\n",
      " 20  compression-ratio  205 non-null    float64\n",
      " 21  horsepower         203 non-null    float64\n",
      " 22  peak-rpm           203 non-null    float64\n",
      " 23  city-mpg           205 non-null    int64  \n",
      " 24  highway-mpg        205 non-null    int64  \n",
      " 25  price              201 non-null    float64\n",
      "dtypes: float64(12), int64(6), object(8)\n",
      "memory usage: 41.8+ KB\n"
     ]
    }
   ],
   "source": [
    "df.info()"
   ]
  },
  {
   "cell_type": "markdown",
   "id": "9b23e811-2ed2-4359-ab5c-a3f3180c822f",
   "metadata": {},
   "source": [
    "### Handle Missing Values"
   ]
  },
  {
   "cell_type": "code",
   "execution_count": 110,
   "id": "d7ea649b-f049-4748-8215-0a9afa1814c6",
   "metadata": {},
   "outputs": [
    {
     "name": "stdout",
     "output_type": "stream",
     "text": [
      "symboling             0\n",
      "normalized-losses    41\n",
      "make                  0\n",
      "fuel-type             0\n",
      "aspiration            0\n",
      "num-of-doors          2\n",
      "body-style            0\n",
      "drive-wheels          0\n",
      "engine-location       0\n",
      "wheel-base            0\n",
      "length                0\n",
      "width                 0\n",
      "height                0\n",
      "curb-weight           0\n",
      "engine-type           0\n",
      "num-of-cylinders      0\n",
      "engine-size           0\n",
      "fuel-system           0\n",
      "bore                  4\n",
      "stroke                4\n",
      "compression-ratio     0\n",
      "horsepower            2\n",
      "peak-rpm              2\n",
      "city-mpg              0\n",
      "highway-mpg           0\n",
      "price                 4\n",
      "dtype: int64\n"
     ]
    }
   ],
   "source": [
    "#Check for missing Values \n",
    "print(df.isnull().sum())"
   ]
  },
  {
   "cell_type": "markdown",
   "id": "afd37099-8ba7-48c4-a628-7b626e188aa7",
   "metadata": {},
   "source": [
    "#### Median or Mean: Histogram\n",
    "=Using Histogram we can now.\n",
    "- If the data is skewed → Use the median\n",
    "- If the data is normally distributed → Use the mean\n"
   ]
  },
  {
   "cell_type": "code",
   "execution_count": 111,
   "id": "6d9f8530-c7c6-4c09-b019-cd34362074bd",
   "metadata": {},
   "outputs": [
    {
     "data": {
      "image/png": "[encoded data removed]",
      "text/plain": [
       "<Figure size 1200x800 with 6 Axes>"
      ]
     },
     "metadata": {},
     "output_type": "display_data"
    }
   ],
   "source": [
    "# Select numerical columns with missing values\n",
    "missing_cols = [\"normalized-losses\", \"num-of-doors\", \"bore\", \"horsepower\", \"peak-rpm\", \"price\"]\n",
    "\n",
    "# Plot histograms for these columns\n",
    "df[missing_cols].hist(figsize=(12, 8), bins=20, edgecolor=\"black\", grid=False)\n",
    "\n",
    "plt.suptitle(\"Histograms of Columns with Missing Values\", fontsize=14)\n",
    "plt.show()\n"
   ]
  },
  {
   "cell_type": "markdown",
   "id": "be3bf30a-ad8d-490a-8a4f-e42eaae4260c",
   "metadata": {},
   "source": [
    "From the histograms, here are the suggestions for handling missing values in each column:\n",
    "\n",
    "1️⃣ normalized-losses\n",
    "\n",
    "    The distribution is skewed, with values ranging from ~50 to 250.\n",
    "    Suggestion: Impute missing values using median, since the data appears to have outliers.\n",
    "\n",
    "2️⃣ num-of-doors\n",
    "\n",
    "    The data has only two distinct values (2 and 4).\n",
    "    Suggestion: Use mode (most frequent value) to fill missing values. #4\n",
    "\n",
    "3️⃣ bore\n",
    "\n",
    "    The distribution is fairly continuous with some missing values.\n",
    "    Suggestion: Use mean or median depending on whether the missing values are few or many.\n",
    "\n",
    "4️⃣ horsepower\n",
    "\n",
    "    The distribution is right-skewed, meaning some extreme values exist.\n",
    "    Suggestion: Use median to impute missing values to avoid skewing the data.\n",
    "\n",
    "5️⃣ peak-rpm\n",
    "\n",
    "    The distribution is multi-modal, meaning the data has multiple peaks.\n",
    "    Suggestion: Impute using median or the closest cluster-based value.\n",
    "\n",
    "6️⃣ price\n",
    "\n",
    "    The distribution is right-skewed, with most cars priced below 15,000.\n",
    "    Suggestion: If the missing values are few, drop them; otherwise, use median imputation."
   ]
  },
  {
   "cell_type": "markdown",
   "id": "49c510b1-ab02-47a1-961c-dd1b182015bb",
   "metadata": {},
   "source": [
    "### Filling the Missing Values"
   ]
  },
  {
   "cell_type": "code",
   "execution_count": 112,
   "id": "5004efc7-80c5-4980-8c33-6ed107fa5215",
   "metadata": {},
   "outputs": [],
   "source": [
    "\n",
    "# Load your dataset (replace 'your_dataframe' with the actual dataframe variable)\n",
    "df1 = df.copy()"
   ]
  },
  {
   "cell_type": "code",
   "execution_count": 113,
   "id": "fc42ff79",
   "metadata": {},
   "outputs": [],
   "source": [
    "df1['normalized-losses'] = df1['normalized-losses'].fillna(df1['normalized-losses'].median())\n",
    "df1['num-of-doors'] = df1['num-of-doors'].fillna(df1['num-of-doors'].mode()[0])\n",
    "df1['bore'] = df1['bore'].fillna(df1['bore'].median())\n",
    "df1['stroke'] = pd.to_numeric(df1['stroke'], errors='coerce')\n",
    "df1['stroke'] = df1['stroke'].fillna(df1['stroke'].median())\n",
    "\n",
    "df1['horsepower'] = df1['horsepower'].fillna(df1['horsepower'].median())\n",
    "df1['peak-rpm'] = df1['peak-rpm'].fillna(df1['peak-rpm'].median())\n",
    "df1.dropna(subset=['price'], inplace=True)  # Drop rows where 'price' is NaN\n"
   ]
  },
  {
   "cell_type": "code",
   "execution_count": 114,
   "id": "2bea870f-de68-4a75-8f7e-f35fa9ea9b5d",
   "metadata": {},
   "outputs": [
    {
     "name": "stdout",
     "output_type": "stream",
     "text": [
      "symboling            0\n",
      "normalized-losses    0\n",
      "make                 0\n",
      "fuel-type            0\n",
      "aspiration           0\n",
      "num-of-doors         0\n",
      "body-style           0\n",
      "drive-wheels         0\n",
      "engine-location      0\n",
      "wheel-base           0\n",
      "length               0\n",
      "width                0\n",
      "height               0\n",
      "curb-weight          0\n",
      "engine-type          0\n",
      "num-of-cylinders     0\n",
      "engine-size          0\n",
      "fuel-system          0\n",
      "bore                 0\n",
      "stroke               0\n",
      "compression-ratio    0\n",
      "horsepower           0\n",
      "peak-rpm             0\n",
      "city-mpg             0\n",
      "highway-mpg          0\n",
      "price                0\n",
      "dtype: int64\n",
      "Wow! that is good!\n"
     ]
    }
   ],
   "source": [
    "# Confirm missing values handled\n",
    "print(df1.isnull().sum())  # Should print 0s for all relevant columns\n",
    "print(\"Wow! that is good!\")"
   ]
  },
  {
   "cell_type": "markdown",
   "id": "abc7cb5a-e441-4dc8-aab8-2c0bbb79303d",
   "metadata": {},
   "source": [
    "## Model\n",
    "How to decide on the right machine learning model based on Exploratory Data Analysis (EDA)? - Here’s how EDA guides model selection:"
   ]
  },
  {
   "cell_type": "markdown",
   "id": "c17dece1-99ad-4676-95c8-ccf25c4269fd",
   "metadata": {},
   "source": [
    "### Correlation\n",
    "- If high correlation between features → Consider feature selection.\n",
    "- If low correlation with the target → Some features may be irrelevant."
   ]
  },
  {
   "cell_type": "markdown",
   "id": "b1543fb3-7514-418b-be92-0cbf09467726",
   "metadata": {},
   "source": [
    "### Detect Outliers (Boxplots, Z-Score, IQR method)\n",
    "- If few outliers → Remove them.\n",
    "- If many outliers → Consider tree-based models (Robust to outliers)."
   ]
  },
  {
   "cell_type": "markdown",
   "id": "32cea286-ba57-4e93-a8b1-09c46f09d9ca",
   "metadata": {},
   "source": [
    "### Check Class Balance (Bar plots, Value Counts)\n",
    "- If imbalanced dataset (e.g., 90% vs. 10%) → Use SMOTE or class-weighted models."
   ]
  },
  {
   "cell_type": "markdown",
   "id": "8a222f18-ebf6-4e73-bc7d-949f09d6f32a",
   "metadata": {},
   "source": [
    " ### How EDA Influences Model Selection\n",
    "- EDA Finding\tModel Recommendation\n",
    "- Mostly numerical data\t           --> Linear Regression, XGBoost, Random Forest\n",
    "- Mostly categorical               -->  data\tDecision Trees, Random Forest, Naive Bayes\n",
    "- Many missing values\t           -->   KNN Imputer + XGBoost/Random Forest\n",
    "- High correlation between features\t-->Feature selection + Linear Models\n",
    "- Highly imbalanced classes\t  -->Logistic Regression (class weights), SMOTE + Random Forest\n",
    "- Non-linear relationships\t   -->Tree-based models (Random Forest, XGBoost)\n",
    "- Too many outliers\t            -->Decision Tree, Random Forest, Robust Scaling"
   ]
  },
  {
   "cell_type": "code",
   "execution_count": 115,
   "id": "2ef33966-8a0c-4f08-875a-50310c202433",
   "metadata": {},
   "outputs": [
    {
     "name": "stdout",
     "output_type": "stream",
     "text": [
      "<class 'pandas.core.frame.DataFrame'>\n",
      "Index: 201 entries, 0 to 204\n",
      "Data columns (total 26 columns):\n",
      " #   Column             Non-Null Count  Dtype  \n",
      "---  ------             --------------  -----  \n",
      " 0   symboling          201 non-null    int64  \n",
      " 1   normalized-losses  201 non-null    float64\n",
      " 2   make               201 non-null    object \n",
      " 3   fuel-type          201 non-null    object \n",
      " 4   aspiration         201 non-null    object \n",
      " 5   num-of-doors       201 non-null    float64\n",
      " 6   body-style         201 non-null    object \n",
      " 7   drive-wheels       201 non-null    object \n",
      " 8   engine-location    201 non-null    object \n",
      " 9   wheel-base         201 non-null    float64\n",
      " 10  length             201 non-null    float64\n",
      " 11  width              201 non-null    float64\n",
      " 12  height             201 non-null    float64\n",
      " 13  curb-weight        201 non-null    int64  \n",
      " 14  engine-type        201 non-null    object \n",
      " 15  num-of-cylinders   201 non-null    int64  \n",
      " 16  engine-size        201 non-null    int64  \n",
      " 17  fuel-system        201 non-null    object \n",
      " 18  bore               201 non-null    float64\n",
      " 19  stroke             201 non-null    float64\n",
      " 20  compression-ratio  201 non-null    float64\n",
      " 21  horsepower         201 non-null    float64\n",
      " 22  peak-rpm           201 non-null    float64\n",
      " 23  city-mpg           201 non-null    int64  \n",
      " 24  highway-mpg        201 non-null    int64  \n",
      " 25  price              201 non-null    float64\n",
      "dtypes: float64(12), int64(6), object(8)\n",
      "memory usage: 42.4+ KB\n"
     ]
    }
   ],
   "source": [
    "df1.info()"
   ]
  },
  {
   "cell_type": "markdown",
   "id": "e256e3c8",
   "metadata": {},
   "source": [
    "### Low and High cardinality  :Categorical Variables \n",
    "If there's only one category in a column, it won't provide any unique information to our model. At the other extreme, columns where nearly every row has its own category won't help our model in identifying useful trends in the data.\n",
    "\n",
    "Let's take a look at the cardinality of our features."
   ]
  },
  {
   "cell_type": "code",
   "execution_count": 116,
   "id": "073fe844",
   "metadata": {},
   "outputs": [
    {
     "data": {
      "text/plain": [
       "make               22\n",
       "fuel-type           2\n",
       "aspiration          2\n",
       "body-style          5\n",
       "drive-wheels        3\n",
       "engine-location     2\n",
       "engine-type         6\n",
       "fuel-system         8\n",
       "dtype: int64"
      ]
     },
     "execution_count": 116,
     "metadata": {},
     "output_type": "execute_result"
    }
   ],
   "source": [
    "df1.select_dtypes(include=[\"object\"]).nunique()"
   ]
  },
  {
   "cell_type": "code",
   "execution_count": 117,
   "id": "6c08739e",
   "metadata": {},
   "outputs": [],
   "source": [
    "# Drop the 'make' column\n",
    "df1.drop(columns=['make'], inplace=True)  ##high cardinality\n"
   ]
  },
  {
   "cell_type": "code",
   "execution_count": 118,
   "id": "a17e704b",
   "metadata": {},
   "outputs": [
    {
     "data": {
      "text/plain": [
       "fuel-type          2\n",
       "aspiration         2\n",
       "body-style         5\n",
       "drive-wheels       3\n",
       "engine-location    2\n",
       "engine-type        6\n",
       "fuel-system        8\n",
       "dtype: int64"
      ]
     },
     "execution_count": 118,
     "metadata": {},
     "output_type": "execute_result"
    }
   ],
   "source": [
    "#df1 = df1.drop(columns=['make'])  # Assign only if inplace=False\n",
    "df1.select_dtypes(include=[\"object\"]).nunique()"
   ]
  },
  {
   "cell_type": "markdown",
   "id": "1880ddc2-bb0f-4061-90bc-0a1ea1cfa582",
   "metadata": {},
   "source": [
    "### Multicollinearity :Numerical Data"
   ]
  },
  {
   "cell_type": "code",
   "execution_count": 119,
   "id": "1d8fde20-381d-49c5-baa8-c5db96a00dd8",
   "metadata": {},
   "outputs": [
    {
     "data": {
      "text/plain": [
       "<Axes: >"
      ]
     },
     "execution_count": 119,
     "metadata": {},
     "output_type": "execute_result"
    },
    {
     "data": {
      "image/png": "[encoded data removed]",
      "text/plain": [
       "<Figure size 640x480 with 2 Axes>"
      ]
     },
     "metadata": {},
     "output_type": "display_data"
    }
   ],
   "source": [
    "corr = df1.drop(columns=[\"price\"]).select_dtypes(\"number\").corr()\n",
    "sns.heatmap(corr)"
   ]
  },
  {
   "cell_type": "code",
   "execution_count": 120,
   "id": "11f8e761-04b4-4cbd-ac18-0f9ad5e9ff7e",
   "metadata": {},
   "outputs": [
    {
     "name": "stdout",
     "output_type": "stream",
     "text": [
      "              Feature        VIF\n",
      "16           city-mpg  28.873731\n",
      "10        engine-size  28.251358\n",
      "17        highway-mpg  26.683212\n",
      "8         curb-weight  17.244070\n",
      "9    num-of-cylinders  12.921062\n",
      "5              length  10.194873\n",
      "4          wheel-base   9.554658\n",
      "14         horsepower   9.072211\n",
      "6               width   6.149843\n",
      "11               bore   4.526972\n",
      "1           symboling   3.192322\n",
      "7              height   2.586708\n",
      "3        num-of-doors   2.338242\n",
      "13  compression-ratio   2.238724\n",
      "15           peak-rpm   2.100783\n",
      "12             stroke   1.913399\n",
      "2   normalized-losses   1.655787\n"
     ]
    }
   ],
   "source": [
    "# Select only numerical features (excluding target variable 'price')\n",
    "df_numeric1 = df1.select_dtypes(include=['number']).drop(columns=['price'], errors='ignore')\n",
    "\n",
    "# Add a constant for VIF calculation\n",
    "X = sm.add_constant(df_numeric1)\n",
    "\n",
    "# Compute VIF for each feature\n",
    "vif_data = pd.DataFrame()\n",
    "vif_data[\"Feature\"] = X.columns\n",
    "vif_data[\"VIF\"] = [variance_inflation_factor(X.values, i) for i in range(X.shape[1])]\n",
    "\n",
    "# Drop the constant column\n",
    "vif_data = vif_data[vif_data[\"Feature\"] != \"const\"]\n",
    "\n",
    "# Display results\n",
    "print(vif_data.sort_values(by=\"VIF\", ascending=False))\n"
   ]
  },
  {
   "cell_type": "markdown",
   "id": "47798174-f5af-4a3e-bd07-b3eeb5991e92",
   "metadata": {},
   "source": [
    "📌 Rules of Thumb for VIF Interpretation\n",
    "\n",
    "    VIF < 5 🟢 → Low collinearity (Good)\n",
    "    VIF 5-10 🟠 → Moderate collinearity (Check)\n",
    "    VIF > 10 🔴 → High collinearity (Remove or Adjust"
   ]
  },
  {
   "cell_type": "markdown",
   "id": "b22fee97-43f0-4f89-beb2-efd5993b0774",
   "metadata": {},
   "source": [
    "📌 Recommended Fixes\n",
    "\n",
    "    Drop one of city-mpg or highway-mpg (they are highly correlated).\n",
    "    Check correlation between engine-size, curb-weight, and horsepower – drop one or use PCA.\n",
    "    Drop or transform num-of-cylinders (since it is highly related to engine size).\n",
    "    Consider Ridge Regression if you must keep all features."
   ]
  },
  {
   "cell_type": "markdown",
   "id": "5077e203",
   "metadata": {},
   "source": [
    "#### Handling Multicollinearity"
   ]
  },
  {
   "cell_type": "code",
   "execution_count": 121,
   "id": "b7f3dc36",
   "metadata": {},
   "outputs": [],
   "source": [
    "# Drop high multicollinearity features\n",
    "df_cleaned=df1.drop(columns=[\"wheel-base\",\"curb-weight\",\"highway-mpg\",\"engine-size\",\"width\"])\n"
   ]
  },
  {
   "cell_type": "code",
   "execution_count": 122,
   "id": "7fd02ac5",
   "metadata": {},
   "outputs": [
    {
     "name": "stdout",
     "output_type": "stream",
     "text": [
      "<class 'pandas.core.frame.DataFrame'>\n",
      "Index: 201 entries, 0 to 204\n",
      "Data columns (total 20 columns):\n",
      " #   Column             Non-Null Count  Dtype  \n",
      "---  ------             --------------  -----  \n",
      " 0   symboling          201 non-null    int64  \n",
      " 1   normalized-losses  201 non-null    float64\n",
      " 2   fuel-type          201 non-null    object \n",
      " 3   aspiration         201 non-null    object \n",
      " 4   num-of-doors       201 non-null    float64\n",
      " 5   body-style         201 non-null    object \n",
      " 6   drive-wheels       201 non-null    object \n",
      " 7   engine-location    201 non-null    object \n",
      " 8   length             201 non-null    float64\n",
      " 9   height             201 non-null    float64\n",
      " 10  engine-type        201 non-null    object \n",
      " 11  num-of-cylinders   201 non-null    int64  \n",
      " 12  fuel-system        201 non-null    object \n",
      " 13  bore               201 non-null    float64\n",
      " 14  stroke             201 non-null    float64\n",
      " 15  compression-ratio  201 non-null    float64\n",
      " 16  horsepower         201 non-null    float64\n",
      " 17  peak-rpm           201 non-null    float64\n",
      " 18  city-mpg           201 non-null    int64  \n",
      " 19  price              201 non-null    float64\n",
      "dtypes: float64(10), int64(3), object(7)\n",
      "memory usage: 33.0+ KB\n"
     ]
    }
   ],
   "source": [
    "df_cleaned.info()"
   ]
  },
  {
   "cell_type": "code",
   "execution_count": 123,
   "id": "bb4d79c1",
   "metadata": {},
   "outputs": [
    {
     "name": "stdout",
     "output_type": "stream",
     "text": [
      "              Feature       VIF\n",
      "10         horsepower  7.460003\n",
      "12           city-mpg  5.641440\n",
      "4              length  5.370040\n",
      "6    num-of-cylinders  3.005338\n",
      "7                bore  2.762324\n",
      "1           symboling  2.396781\n",
      "5              height  2.265125\n",
      "3        num-of-doors  2.165988\n",
      "11           peak-rpm  1.886783\n",
      "9   compression-ratio  1.765115\n",
      "2   normalized-losses  1.506755\n",
      "8              stroke  1.199355\n"
     ]
    }
   ],
   "source": [
    "# Select only numerical features (excluding target variable 'price')\n",
    "df_numeric2 = df_cleaned.select_dtypes(\"number\").drop(columns=['price'], errors='ignore')\n",
    "\n",
    "# Add a constant for VIF calculation\n",
    "X = sm.add_constant(df_numeric2)\n",
    "\n",
    "# Compute VIF for each feature\n",
    "vif_data = pd.DataFrame()\n",
    "vif_data[\"Feature\"] = X.columns\n",
    "vif_data[\"VIF\"] = [variance_inflation_factor(X.values, i) for i in range(X.shape[1])]\n",
    "\n",
    "# Drop the constant column\n",
    "vif_data = vif_data[vif_data[\"Feature\"] != \"const\"]\n",
    "\n",
    "# Display results\n",
    "print(vif_data.sort_values(by=\"VIF\", ascending=False))"
   ]
  },
  {
   "cell_type": "markdown",
   "id": "9c2dd7b6",
   "metadata": {},
   "source": [
    "Good!"
   ]
  },
  {
   "cell_type": "markdown",
   "id": "a8751980",
   "metadata": {},
   "source": [
    "### OR"
   ]
  },
  {
   "cell_type": "markdown",
   "id": "6eccf577-2133-4bc1-8351-2f369c15f181",
   "metadata": {},
   "source": [
    "### PCA: Principal Component Analysis to Handle Multicollinearity\n",
    "- PCA helps reduce multicollinearity by transforming correlated features into uncorrelated principal components."
   ]
  },
  {
   "cell_type": "code",
   "execution_count": 124,
   "id": "3c46b477",
   "metadata": {},
   "outputs": [
    {
     "name": "stdout",
     "output_type": "stream",
     "text": [
      "<class 'pandas.core.frame.DataFrame'>\n",
      "Index: 201 entries, 0 to 204\n",
      "Data columns (total 25 columns):\n",
      " #   Column             Non-Null Count  Dtype  \n",
      "---  ------             --------------  -----  \n",
      " 0   symboling          201 non-null    int64  \n",
      " 1   normalized-losses  201 non-null    float64\n",
      " 2   fuel-type          201 non-null    object \n",
      " 3   aspiration         201 non-null    object \n",
      " 4   num-of-doors       201 non-null    float64\n",
      " 5   body-style         201 non-null    object \n",
      " 6   drive-wheels       201 non-null    object \n",
      " 7   engine-location    201 non-null    object \n",
      " 8   wheel-base         201 non-null    float64\n",
      " 9   length             201 non-null    float64\n",
      " 10  width              201 non-null    float64\n",
      " 11  height             201 non-null    float64\n",
      " 12  curb-weight        201 non-null    int64  \n",
      " 13  engine-type        201 non-null    object \n",
      " 14  num-of-cylinders   201 non-null    int64  \n",
      " 15  engine-size        201 non-null    int64  \n",
      " 16  fuel-system        201 non-null    object \n",
      " 17  bore               201 non-null    float64\n",
      " 18  stroke             201 non-null    float64\n",
      " 19  compression-ratio  201 non-null    float64\n",
      " 20  horsepower         201 non-null    float64\n",
      " 21  peak-rpm           201 non-null    float64\n",
      " 22  city-mpg           201 non-null    int64  \n",
      " 23  highway-mpg        201 non-null    int64  \n",
      " 24  price              201 non-null    float64\n",
      "dtypes: float64(12), int64(6), object(7)\n",
      "memory usage: 40.8+ KB\n"
     ]
    }
   ],
   "source": [
    "df3=df1.copy()\n",
    "df3.info()"
   ]
  },
  {
   "cell_type": "code",
   "execution_count": 125,
   "id": "bd3d6482-2f8a-4322-9f3f-d608192456e8",
   "metadata": {},
   "outputs": [],
   "source": [
    "# Separate target and features\n",
    "target = \"price\"\n",
    "features = df3.drop(columns=[target]).select_dtypes(include=[np.number])  # Exclude target\n",
    "\n",
    "# Standardize only the features\n",
    "scaler = StandardScaler()\n",
    "scaled_features = scaler.fit_transform(features)\n"
   ]
  },
  {
   "cell_type": "code",
   "execution_count": 126,
   "id": "8044b8ac",
   "metadata": {},
   "outputs": [],
   "source": [
    "# Apply PCA\n",
    "pca = PCA()\n",
    "pca_components = pca.fit_transform(scaled_features)\n",
    "\n",
    "# Convert to DataFrame\n",
    "pca_df = pd.DataFrame(pca_components, columns=[f'PC{i+1}' for i in range(len(features.columns))])\n",
    "\n",
    "# Explained variance ratio\n",
    "explained_variance = pca.explained_variance_ratio_\n"
   ]
  },
  {
   "cell_type": "code",
   "execution_count": 127,
   "id": "27c728e8",
   "metadata": {},
   "outputs": [
    {
     "data": {
      "image/png": "[encoded data removed]",
      "text/plain": [
       "<Figure size 800x500 with 1 Axes>"
      ]
     },
     "metadata": {},
     "output_type": "display_data"
    }
   ],
   "source": [
    "plt.figure(figsize=(8,5))\n",
    "plt.plot(range(1, len(features.columns)+1), np.cumsum(explained_variance), marker='o', linestyle='--')\n",
    "plt.xlabel('Number of Principal Components')\n",
    "plt.ylabel('Cumulative Explained Variance')\n",
    "plt.title('Explained Variance by Components')\n",
    "plt.show()\n"
   ]
  },
  {
   "cell_type": "code",
   "execution_count": 128,
   "id": "48747b30",
   "metadata": {},
   "outputs": [],
   "source": [
    "pca_opt = PCA(n_components=9)  # Choose between 8 and 10 based on preference\n",
    "reduced_features = pca_opt.fit_transform(scaled_features)\n",
    "\n",
    "# Convert to DataFrame\n",
    "reduced_df = pd.DataFrame(reduced_features, columns=[f'PC{i+1}' for i in range(9)])\n"
   ]
  },
  {
   "cell_type": "code",
   "execution_count": 129,
   "id": "f2bb59da",
   "metadata": {},
   "outputs": [
    {
     "name": "stdout",
     "output_type": "stream",
     "text": [
      "  Feature  VIF\n",
      "0     PC1  1.0\n",
      "1     PC2  1.0\n",
      "2     PC3  1.0\n",
      "3     PC4  1.0\n",
      "4     PC5  1.0\n",
      "5     PC6  1.0\n",
      "6     PC7  1.0\n",
      "7     PC8  1.0\n",
      "8     PC9  1.0\n"
     ]
    }
   ],
   "source": [
    "# Compute VIF for new principal components\n",
    "vif_data = pd.DataFrame()\n",
    "vif_data[\"Feature\"] = reduced_df.columns\n",
    "vif_data[\"VIF\"] = [variance_inflation_factor(reduced_df.values, i) for i in range(reduced_df.shape[1])]\n",
    "\n",
    "print(vif_data)\n"
   ]
  },
  {
   "cell_type": "markdown",
   "id": "e949ae72",
   "metadata": {},
   "source": [
    "Why is VIF = 1.0 for All PCs?\n",
    "\n",
    "    VIF measures multicollinearity, which tells how much a feature is linearly dependent on the others.\n",
    "    PCA transforms the original variables into new uncorrelated principal components.\n",
    "    Since PCA ensures no multicollinearity, the VIF for each PC is 1.0, meaning there is zero correlation among them."
   ]
  },
  {
   "cell_type": "code",
   "execution_count": 130,
   "id": "ea1e5380",
   "metadata": {},
   "outputs": [
    {
     "name": "stdout",
     "output_type": "stream",
     "text": [
      "Index(['PC1', 'PC2', 'PC3', 'PC4', 'PC5', 'PC6', 'PC7', 'PC8', 'PC9'], dtype='object')\n",
      "Index(['fuel-type', 'aspiration', 'body-style', 'drive-wheels',\n",
      "       'engine-location', 'engine-type', 'fuel-system'],\n",
      "      dtype='object')\n"
     ]
    }
   ],
   "source": [
    "print(reduced_df.columns)\n",
    "print(df3.select_dtypes(\"object\").columns)\n"
   ]
  },
  {
   "cell_type": "code",
   "execution_count": 131,
   "id": "73a92fd0",
   "metadata": {},
   "outputs": [
    {
     "name": "stdout",
     "output_type": "stream",
     "text": [
      "(201, 16)\n"
     ]
    }
   ],
   "source": [
    "# Select categorical columns\n",
    "cat_features = df3.select_dtypes(include=['object'])\n",
    "# Reset index before merging\n",
    "reduced_df = reduced_df.reset_index(drop=True)\n",
    "cat_features = cat_features.reset_index(drop=True)\n",
    "\n",
    "# Now concatenate\n",
    "final_df = pd.concat([reduced_df, cat_features], axis=1)\n",
    "\n",
    "# Check shape\n",
    "print(final_df.shape)  # Should now be (201, 16)\n"
   ]
  },
  {
   "cell_type": "code",
   "execution_count": 132,
   "id": "d3227609",
   "metadata": {},
   "outputs": [
    {
     "name": "stdout",
     "output_type": "stream",
     "text": [
      "<class 'pandas.core.frame.DataFrame'>\n",
      "RangeIndex: 201 entries, 0 to 200\n",
      "Data columns (total 16 columns):\n",
      " #   Column           Non-Null Count  Dtype  \n",
      "---  ------           --------------  -----  \n",
      " 0   PC1              201 non-null    float64\n",
      " 1   PC2              201 non-null    float64\n",
      " 2   PC3              201 non-null    float64\n",
      " 3   PC4              201 non-null    float64\n",
      " 4   PC5              201 non-null    float64\n",
      " 5   PC6              201 non-null    float64\n",
      " 6   PC7              201 non-null    float64\n",
      " 7   PC8              201 non-null    float64\n",
      " 8   PC9              201 non-null    float64\n",
      " 9   fuel-type        201 non-null    object \n",
      " 10  aspiration       201 non-null    object \n",
      " 11  body-style       201 non-null    object \n",
      " 12  drive-wheels     201 non-null    object \n",
      " 13  engine-location  201 non-null    object \n",
      " 14  engine-type      201 non-null    object \n",
      " 15  fuel-system      201 non-null    object \n",
      "dtypes: float64(9), object(7)\n",
      "memory usage: 25.3+ KB\n"
     ]
    }
   ],
   "source": [
    "final_df.info()"
   ]
  },
  {
   "cell_type": "markdown",
   "id": "991e486c",
   "metadata": {},
   "source": [
    "#### Split"
   ]
  },
  {
   "cell_type": "code",
   "execution_count": 133,
   "id": "5a7812e7",
   "metadata": {},
   "outputs": [],
   "source": [
    "target = \"price\"\n",
    "features=['PC1', 'PC2', 'PC3', 'PC4', 'PC5', 'PC6','PC7','PC8','PC9', 'fuel-type', 'aspiration', 'body-style', 'drive-wheels','engine-location', 'engine-type', 'fuel-system'] # Select all the principal components and the Object dtypes\n",
    "X=final_df[features]\n",
    "y=df3[target].reset_index(drop=True)"
   ]
  },
  {
   "cell_type": "code",
   "execution_count": 134,
   "id": "43065060",
   "metadata": {},
   "outputs": [
    {
     "name": "stdout",
     "output_type": "stream",
     "text": [
      "(201, 16) (201,)\n",
      "(160, 16) (160,)\n",
      "(41, 16) (41,)\n"
     ]
    }
   ],
   "source": [
    "# Split data\n",
    "X_train, X_test, y_train, y_test = train_test_split(X, y, test_size=0.2, random_state=42)\n",
    "print(X.shape, y.shape)  # Check number of rows in X and y\n",
    "print(X_train.shape, y_train.shape)  # Check number of rows in X_train and y_train\n",
    "print(X_test.shape, y_test.shape)  # Check number of rows in X_test and y_test"
   ]
  },
  {
   "cell_type": "code",
   "execution_count": 135,
   "id": "a3e24f4f",
   "metadata": {},
   "outputs": [
    {
     "data": {
      "text/html": [
       "<style>#sk-container-id-5 {\n",
       "  /* Definition of color scheme common for light and dark mode */\n",
       "  --sklearn-color-text: black;\n",
       "  --sklearn-color-line: gray;\n",
       "  /* Definition of color scheme for unfitted estimators */\n",
       "  --sklearn-color-unfitted-level-0: #fff5e6;\n",
       "  --sklearn-color-unfitted-level-1: #f6e4d2;\n",
       "  --sklearn-color-unfitted-level-2: #ffe0b3;\n",
       "  --sklearn-color-unfitted-level-3: chocolate;\n",
       "  /* Definition of color scheme for fitted estimators */\n",
       "  --sklearn-color-fitted-level-0: #f0f8ff;\n",
       "  --sklearn-color-fitted-level-1: #d4ebff;\n",
       "  --sklearn-color-fitted-level-2: #b3dbfd;\n",
       "  --sklearn-color-fitted-level-3: cornflowerblue;\n",
       "\n",
       "  /* Specific color for light theme */\n",
       "  --sklearn-color-text-on-default-background: var(--sg-text-color, var(--theme-code-foreground, var(--jp-content-font-color1, black)));\n",
       "  --sklearn-color-background: var(--sg-background-color, var(--theme-background, var(--jp-layout-color0, white)));\n",
       "  --sklearn-color-border-box: var(--sg-text-color, var(--theme-code-foreground, var(--jp-content-font-color1, black)));\n",
       "  --sklearn-color-icon: #696969;\n",
       "\n",
       "  @media (prefers-color-scheme: dark) {\n",
       "    /* Redefinition of color scheme for dark theme */\n",
       "    --sklearn-color-text-on-default-background: var(--sg-text-color, var(--theme-code-foreground, var(--jp-content-font-color1, white)));\n",
       "    --sklearn-color-background: var(--sg-background-color, var(--theme-background, var(--jp-layout-color0, #111)));\n",
       "    --sklearn-color-border-box: var(--sg-text-color, var(--theme-code-foreground, var(--jp-content-font-color1, white)));\n",
       "    --sklearn-color-icon: #878787;\n",
       "  }\n",
       "}\n",
       "\n",
       "#sk-container-id-5 {\n",
       "  color: var(--sklearn-color-text);\n",
       "}\n",
       "\n",
       "#sk-container-id-5 pre {\n",
       "  padding: 0;\n",
       "}\n",
       "\n",
       "#sk-container-id-5 input.sk-hidden--visually {\n",
       "  border: 0;\n",
       "  clip: rect(1px 1px 1px 1px);\n",
       "  clip: rect(1px, 1px, 1px, 1px);\n",
       "  height: 1px;\n",
       "  margin: -1px;\n",
       "  overflow: hidden;\n",
       "  padding: 0;\n",
       "  position: absolute;\n",
       "  width: 1px;\n",
       "}\n",
       "\n",
       "#sk-container-id-5 div.sk-dashed-wrapped {\n",
       "  border: 1px dashed var(--sklearn-color-line);\n",
       "  margin: 0 0.4em 0.5em 0.4em;\n",
       "  box-sizing: border-box;\n",
       "  padding-bottom: 0.4em;\n",
       "  background-color: var(--sklearn-color-background);\n",
       "}\n",
       "\n",
       "#sk-container-id-5 div.sk-container {\n",
       "  /* jupyter's `normalize.less` sets `[hidden] { display: none; }`\n",
       "     but bootstrap.min.css set `[hidden] { display: none !important; }`\n",
       "     so we also need the `!important` here to be able to override the\n",
       "     default hidden behavior on the sphinx rendered scikit-learn.org.\n",
       "     See: https://github.com/scikit-learn/scikit-learn/issues/21755 */\n",
       "  display: inline-block !important;\n",
       "  position: relative;\n",
       "}\n",
       "\n",
       "#sk-container-id-5 div.sk-text-repr-fallback {\n",
       "  display: none;\n",
       "}\n",
       "\n",
       "div.sk-parallel-item,\n",
       "div.sk-serial,\n",
       "div.sk-item {\n",
       "  /* draw centered vertical line to link estimators */\n",
       "  background-image: linear-gradient(var(--sklearn-color-text-on-default-background), var(--sklearn-color-text-on-default-background));\n",
       "  background-size: 2px 100%;\n",
       "  background-repeat: no-repeat;\n",
       "  background-position: center center;\n",
       "}\n",
       "\n",
       "/* Parallel-specific style estimator block */\n",
       "\n",
       "#sk-container-id-5 div.sk-parallel-item::after {\n",
       "  content: \"\";\n",
       "  width: 100%;\n",
       "  border-bottom: 2px solid var(--sklearn-color-text-on-default-background);\n",
       "  flex-grow: 1;\n",
       "}\n",
       "\n",
       "#sk-container-id-5 div.sk-parallel {\n",
       "  display: flex;\n",
       "  align-items: stretch;\n",
       "  justify-content: center;\n",
       "  background-color: var(--sklearn-color-background);\n",
       "  position: relative;\n",
       "}\n",
       "\n",
       "#sk-container-id-5 div.sk-parallel-item {\n",
       "  display: flex;\n",
       "  flex-direction: column;\n",
       "}\n",
       "\n",
       "#sk-container-id-5 div.sk-parallel-item:first-child::after {\n",
       "  align-self: flex-end;\n",
       "  width: 50%;\n",
       "}\n",
       "\n",
       "#sk-container-id-5 div.sk-parallel-item:last-child::after {\n",
       "  align-self: flex-start;\n",
       "  width: 50%;\n",
       "}\n",
       "\n",
       "#sk-container-id-5 div.sk-parallel-item:only-child::after {\n",
       "  width: 0;\n",
       "}\n",
       "\n",
       "/* Serial-specific style estimator block */\n",
       "\n",
       "#sk-container-id-5 div.sk-serial {\n",
       "  display: flex;\n",
       "  flex-direction: column;\n",
       "  align-items: center;\n",
       "  background-color: var(--sklearn-color-background);\n",
       "  padding-right: 1em;\n",
       "  padding-left: 1em;\n",
       "}\n",
       "\n",
       "\n",
       "/* Toggleable style: style used for estimator/Pipeline/ColumnTransformer box that is\n",
       "clickable and can be expanded/collapsed.\n",
       "- Pipeline and ColumnTransformer use this feature and define the default style\n",
       "- Estimators will overwrite some part of the style using the `sk-estimator` class\n",
       "*/\n",
       "\n",
       "/* Pipeline and ColumnTransformer style (default) */\n",
       "\n",
       "#sk-container-id-5 div.sk-toggleable {\n",
       "  /* Default theme specific background. It is overwritten whether we have a\n",
       "  specific estimator or a Pipeline/ColumnTransformer */\n",
       "  background-color: var(--sklearn-color-background);\n",
       "}\n",
       "\n",
       "/* Toggleable label */\n",
       "#sk-container-id-5 label.sk-toggleable__label {\n",
       "  cursor: pointer;\n",
       "  display: block;\n",
       "  width: 100%;\n",
       "  margin-bottom: 0;\n",
       "  padding: 0.5em;\n",
       "  box-sizing: border-box;\n",
       "  text-align: center;\n",
       "}\n",
       "\n",
       "#sk-container-id-5 label.sk-toggleable__label-arrow:before {\n",
       "  /* Arrow on the left of the label */\n",
       "  content: \"▸\";\n",
       "  float: left;\n",
       "  margin-right: 0.25em;\n",
       "  color: var(--sklearn-color-icon);\n",
       "}\n",
       "\n",
       "#sk-container-id-5 label.sk-toggleable__label-arrow:hover:before {\n",
       "  color: var(--sklearn-color-text);\n",
       "}\n",
       "\n",
       "/* Toggleable content - dropdown */\n",
       "\n",
       "#sk-container-id-5 div.sk-toggleable__content {\n",
       "  max-height: 0;\n",
       "  max-width: 0;\n",
       "  overflow: hidden;\n",
       "  text-align: left;\n",
       "  /* unfitted */\n",
       "  background-color: var(--sklearn-color-unfitted-level-0);\n",
       "}\n",
       "\n",
       "#sk-container-id-5 div.sk-toggleable__content.fitted {\n",
       "  /* fitted */\n",
       "  background-color: var(--sklearn-color-fitted-level-0);\n",
       "}\n",
       "\n",
       "#sk-container-id-5 div.sk-toggleable__content pre {\n",
       "  margin: 0.2em;\n",
       "  border-radius: 0.25em;\n",
       "  color: var(--sklearn-color-text);\n",
       "  /* unfitted */\n",
       "  background-color: var(--sklearn-color-unfitted-level-0);\n",
       "}\n",
       "\n",
       "#sk-container-id-5 div.sk-toggleable__content.fitted pre {\n",
       "  /* unfitted */\n",
       "  background-color: var(--sklearn-color-fitted-level-0);\n",
       "}\n",
       "\n",
       "#sk-container-id-5 input.sk-toggleable__control:checked~div.sk-toggleable__content {\n",
       "  /* Expand drop-down */\n",
       "  max-height: 200px;\n",
       "  max-width: 100%;\n",
       "  overflow: auto;\n",
       "}\n",
       "\n",
       "#sk-container-id-5 input.sk-toggleable__control:checked~label.sk-toggleable__label-arrow:before {\n",
       "  content: \"▾\";\n",
       "}\n",
       "\n",
       "/* Pipeline/ColumnTransformer-specific style */\n",
       "\n",
       "#sk-container-id-5 div.sk-label input.sk-toggleable__control:checked~label.sk-toggleable__label {\n",
       "  color: var(--sklearn-color-text);\n",
       "  background-color: var(--sklearn-color-unfitted-level-2);\n",
       "}\n",
       "\n",
       "#sk-container-id-5 div.sk-label.fitted input.sk-toggleable__control:checked~label.sk-toggleable__label {\n",
       "  background-color: var(--sklearn-color-fitted-level-2);\n",
       "}\n",
       "\n",
       "/* Estimator-specific style */\n",
       "\n",
       "/* Colorize estimator box */\n",
       "#sk-container-id-5 div.sk-estimator input.sk-toggleable__control:checked~label.sk-toggleable__label {\n",
       "  /* unfitted */\n",
       "  background-color: var(--sklearn-color-unfitted-level-2);\n",
       "}\n",
       "\n",
       "#sk-container-id-5 div.sk-estimator.fitted input.sk-toggleable__control:checked~label.sk-toggleable__label {\n",
       "  /* fitted */\n",
       "  background-color: var(--sklearn-color-fitted-level-2);\n",
       "}\n",
       "\n",
       "#sk-container-id-5 div.sk-label label.sk-toggleable__label,\n",
       "#sk-container-id-5 div.sk-label label {\n",
       "  /* The background is the default theme color */\n",
       "  color: var(--sklearn-color-text-on-default-background);\n",
       "}\n",
       "\n",
       "/* On hover, darken the color of the background */\n",
       "#sk-container-id-5 div.sk-label:hover label.sk-toggleable__label {\n",
       "  color: var(--sklearn-color-text);\n",
       "  background-color: var(--sklearn-color-unfitted-level-2);\n",
       "}\n",
       "\n",
       "/* Label box, darken color on hover, fitted */\n",
       "#sk-container-id-5 div.sk-label.fitted:hover label.sk-toggleable__label.fitted {\n",
       "  color: var(--sklearn-color-text);\n",
       "  background-color: var(--sklearn-color-fitted-level-2);\n",
       "}\n",
       "\n",
       "/* Estimator label */\n",
       "\n",
       "#sk-container-id-5 div.sk-label label {\n",
       "  font-family: monospace;\n",
       "  font-weight: bold;\n",
       "  display: inline-block;\n",
       "  line-height: 1.2em;\n",
       "}\n",
       "\n",
       "#sk-container-id-5 div.sk-label-container {\n",
       "  text-align: center;\n",
       "}\n",
       "\n",
       "/* Estimator-specific */\n",
       "#sk-container-id-5 div.sk-estimator {\n",
       "  font-family: monospace;\n",
       "  border: 1px dotted var(--sklearn-color-border-box);\n",
       "  border-radius: 0.25em;\n",
       "  box-sizing: border-box;\n",
       "  margin-bottom: 0.5em;\n",
       "  /* unfitted */\n",
       "  background-color: var(--sklearn-color-unfitted-level-0);\n",
       "}\n",
       "\n",
       "#sk-container-id-5 div.sk-estimator.fitted {\n",
       "  /* fitted */\n",
       "  background-color: var(--sklearn-color-fitted-level-0);\n",
       "}\n",
       "\n",
       "/* on hover */\n",
       "#sk-container-id-5 div.sk-estimator:hover {\n",
       "  /* unfitted */\n",
       "  background-color: var(--sklearn-color-unfitted-level-2);\n",
       "}\n",
       "\n",
       "#sk-container-id-5 div.sk-estimator.fitted:hover {\n",
       "  /* fitted */\n",
       "  background-color: var(--sklearn-color-fitted-level-2);\n",
       "}\n",
       "\n",
       "/* Specification for estimator info (e.g. \"i\" and \"?\") */\n",
       "\n",
       "/* Common style for \"i\" and \"?\" */\n",
       "\n",
       ".sk-estimator-doc-link,\n",
       "a:link.sk-estimator-doc-link,\n",
       "a:visited.sk-estimator-doc-link {\n",
       "  float: right;\n",
       "  font-size: smaller;\n",
       "  line-height: 1em;\n",
       "  font-family: monospace;\n",
       "  background-color: var(--sklearn-color-background);\n",
       "  border-radius: 1em;\n",
       "  height: 1em;\n",
       "  width: 1em;\n",
       "  text-decoration: none !important;\n",
       "  margin-left: 1ex;\n",
       "  /* unfitted */\n",
       "  border: var(--sklearn-color-unfitted-level-1) 1pt solid;\n",
       "  color: var(--sklearn-color-unfitted-level-1);\n",
       "}\n",
       "\n",
       ".sk-estimator-doc-link.fitted,\n",
       "a:link.sk-estimator-doc-link.fitted,\n",
       "a:visited.sk-estimator-doc-link.fitted {\n",
       "  /* fitted */\n",
       "  border: var(--sklearn-color-fitted-level-1) 1pt solid;\n",
       "  color: var(--sklearn-color-fitted-level-1);\n",
       "}\n",
       "\n",
       "/* On hover */\n",
       "div.sk-estimator:hover .sk-estimator-doc-link:hover,\n",
       ".sk-estimator-doc-link:hover,\n",
       "div.sk-label-container:hover .sk-estimator-doc-link:hover,\n",
       ".sk-estimator-doc-link:hover {\n",
       "  /* unfitted */\n",
       "  background-color: var(--sklearn-color-unfitted-level-3);\n",
       "  color: var(--sklearn-color-background);\n",
       "  text-decoration: none;\n",
       "}\n",
       "\n",
       "div.sk-estimator.fitted:hover .sk-estimator-doc-link.fitted:hover,\n",
       ".sk-estimator-doc-link.fitted:hover,\n",
       "div.sk-label-container:hover .sk-estimator-doc-link.fitted:hover,\n",
       ".sk-estimator-doc-link.fitted:hover {\n",
       "  /* fitted */\n",
       "  background-color: var(--sklearn-color-fitted-level-3);\n",
       "  color: var(--sklearn-color-background);\n",
       "  text-decoration: none;\n",
       "}\n",
       "\n",
       "/* Span, style for the box shown on hovering the info icon */\n",
       ".sk-estimator-doc-link span {\n",
       "  display: none;\n",
       "  z-index: 9999;\n",
       "  position: relative;\n",
       "  font-weight: normal;\n",
       "  right: .2ex;\n",
       "  padding: .5ex;\n",
       "  margin: .5ex;\n",
       "  width: min-content;\n",
       "  min-width: 20ex;\n",
       "  max-width: 50ex;\n",
       "  color: var(--sklearn-color-text);\n",
       "  box-shadow: 2pt 2pt 4pt #999;\n",
       "  /* unfitted */\n",
       "  background: var(--sklearn-color-unfitted-level-0);\n",
       "  border: .5pt solid var(--sklearn-color-unfitted-level-3);\n",
       "}\n",
       "\n",
       ".sk-estimator-doc-link.fitted span {\n",
       "  /* fitted */\n",
       "  background: var(--sklearn-color-fitted-level-0);\n",
       "  border: var(--sklearn-color-fitted-level-3);\n",
       "}\n",
       "\n",
       ".sk-estimator-doc-link:hover span {\n",
       "  display: block;\n",
       "}\n",
       "\n",
       "/* \"?\"-specific style due to the `<a>` HTML tag */\n",
       "\n",
       "#sk-container-id-5 a.estimator_doc_link {\n",
       "  float: right;\n",
       "  font-size: 1rem;\n",
       "  line-height: 1em;\n",
       "  font-family: monospace;\n",
       "  background-color: var(--sklearn-color-background);\n",
       "  border-radius: 1rem;\n",
       "  height: 1rem;\n",
       "  width: 1rem;\n",
       "  text-decoration: none;\n",
       "  /* unfitted */\n",
       "  color: var(--sklearn-color-unfitted-level-1);\n",
       "  border: var(--sklearn-color-unfitted-level-1) 1pt solid;\n",
       "}\n",
       "\n",
       "#sk-container-id-5 a.estimator_doc_link.fitted {\n",
       "  /* fitted */\n",
       "  border: var(--sklearn-color-fitted-level-1) 1pt solid;\n",
       "  color: var(--sklearn-color-fitted-level-1);\n",
       "}\n",
       "\n",
       "/* On hover */\n",
       "#sk-container-id-5 a.estimator_doc_link:hover {\n",
       "  /* unfitted */\n",
       "  background-color: var(--sklearn-color-unfitted-level-3);\n",
       "  color: var(--sklearn-color-background);\n",
       "  text-decoration: none;\n",
       "}\n",
       "\n",
       "#sk-container-id-5 a.estimator_doc_link.fitted:hover {\n",
       "  /* fitted */\n",
       "  background-color: var(--sklearn-color-fitted-level-3);\n",
       "}\n",
       "</style><div id=\"sk-container-id-5\" class=\"sk-top-container\"><div class=\"sk-text-repr-fallback\"><pre>Pipeline(steps=[(&#x27;onehotencoder&#x27;,\n",
       "                 OneHotEncoder(cols=[&#x27;fuel-type&#x27;, &#x27;aspiration&#x27;, &#x27;body-style&#x27;,\n",
       "                                     &#x27;drive-wheels&#x27;, &#x27;engine-location&#x27;,\n",
       "                                     &#x27;engine-type&#x27;, &#x27;fuel-system&#x27;],\n",
       "                               use_cat_names=True)),\n",
       "                (&#x27;ridge&#x27;, Ridge())])</pre><b>In a Jupyter environment, please rerun this cell to show the HTML representation or trust the notebook. <br />On GitHub, the HTML representation is unable to render, please try loading this page with nbviewer.org.</b></div><div class=\"sk-container\" hidden><div class=\"sk-item sk-dashed-wrapped\"><div class=\"sk-label-container\"><div class=\"sk-label fitted sk-toggleable\"><input class=\"sk-toggleable__control sk-hidden--visually\" id=\"sk-estimator-id-14\" type=\"checkbox\" ><label for=\"sk-estimator-id-14\" class=\"sk-toggleable__label fitted sk-toggleable__label-arrow fitted\">&nbsp;&nbsp;Pipeline<a class=\"sk-estimator-doc-link fitted\" rel=\"noreferrer\" target=\"_blank\" href=\"https://scikit-learn.org/1.5/modules/generated/sklearn.pipeline.Pipeline.html\">?<span>Documentation for Pipeline</span></a><span class=\"sk-estimator-doc-link fitted\">i<span>Fitted</span></span></label><div class=\"sk-toggleable__content fitted\"><pre>Pipeline(steps=[(&#x27;onehotencoder&#x27;,\n",
       "                 OneHotEncoder(cols=[&#x27;fuel-type&#x27;, &#x27;aspiration&#x27;, &#x27;body-style&#x27;,\n",
       "                                     &#x27;drive-wheels&#x27;, &#x27;engine-location&#x27;,\n",
       "                                     &#x27;engine-type&#x27;, &#x27;fuel-system&#x27;],\n",
       "                               use_cat_names=True)),\n",
       "                (&#x27;ridge&#x27;, Ridge())])</pre></div> </div></div><div class=\"sk-serial\"><div class=\"sk-item\"><div class=\"sk-estimator fitted sk-toggleable\"><input class=\"sk-toggleable__control sk-hidden--visually\" id=\"sk-estimator-id-15\" type=\"checkbox\" ><label for=\"sk-estimator-id-15\" class=\"sk-toggleable__label fitted sk-toggleable__label-arrow fitted\">OneHotEncoder</label><div class=\"sk-toggleable__content fitted\"><pre>OneHotEncoder(cols=[&#x27;fuel-type&#x27;, &#x27;aspiration&#x27;, &#x27;body-style&#x27;, &#x27;drive-wheels&#x27;,\n",
       "                    &#x27;engine-location&#x27;, &#x27;engine-type&#x27;, &#x27;fuel-system&#x27;],\n",
       "              use_cat_names=True)</pre></div> </div></div><div class=\"sk-item\"><div class=\"sk-estimator fitted sk-toggleable\"><input class=\"sk-toggleable__control sk-hidden--visually\" id=\"sk-estimator-id-16\" type=\"checkbox\" ><label for=\"sk-estimator-id-16\" class=\"sk-toggleable__label fitted sk-toggleable__label-arrow fitted\">&nbsp;Ridge<a class=\"sk-estimator-doc-link fitted\" rel=\"noreferrer\" target=\"_blank\" href=\"https://scikit-learn.org/1.5/modules/generated/sklearn.linear_model.Ridge.html\">?<span>Documentation for Ridge</span></a></label><div class=\"sk-toggleable__content fitted\"><pre>Ridge()</pre></div> </div></div></div></div></div></div>"
      ],
      "text/plain": [
       "Pipeline(steps=[('onehotencoder',\n",
       "                 OneHotEncoder(cols=['fuel-type', 'aspiration', 'body-style',\n",
       "                                     'drive-wheels', 'engine-location',\n",
       "                                     'engine-type', 'fuel-system'],\n",
       "                               use_cat_names=True)),\n",
       "                ('ridge', Ridge())])"
      ]
     },
     "execution_count": 135,
     "metadata": {},
     "output_type": "execute_result"
    }
   ],
   "source": [
    "# Train model\n",
    "model = make_pipeline(OneHotEncoder(use_cat_names=True),Ridge())\n",
    "model.fit(X_train,y_train)"
   ]
  },
  {
   "cell_type": "code",
   "execution_count": 136,
   "id": "e4c83642",
   "metadata": {},
   "outputs": [
    {
     "name": "stdout",
     "output_type": "stream",
     "text": [
      "Training MAE: 1553.27\n"
     ]
    }
   ],
   "source": [
    "y_pred_training = model.predict(X_train)\n",
    "\n",
    "mae_training = mean_absolute_error(y_train,y_pred_training)\n",
    "print(\"Training MAE:\", round(mae_training, 2))"
   ]
  },
  {
   "cell_type": "markdown",
   "id": "65a60f9e",
   "metadata": {},
   "source": [
    "#### Generalization"
   ]
  },
  {
   "cell_type": "code",
   "execution_count": 137,
   "id": "42e30a1b",
   "metadata": {},
   "outputs": [
    {
     "data": {
      "text/plain": [
       "0     9215.760536\n",
       "1    25469.493159\n",
       "2     5574.580310\n",
       "3     7892.029929\n",
       "4    13921.915407\n",
       "dtype: float64"
      ]
     },
     "execution_count": 137,
     "metadata": {},
     "output_type": "execute_result"
    }
   ],
   "source": [
    "y_pred_test = pd.Series(model.predict(X_test))\n",
    "y_pred_test.head()"
   ]
  },
  {
   "cell_type": "code",
   "execution_count": 138,
   "id": "4f2f2129",
   "metadata": {},
   "outputs": [
    {
     "name": "stdout",
     "output_type": "stream",
     "text": [
      "Test MAE: 2989.75\n"
     ]
    }
   ],
   "source": [
    "# Check if the model is fitted\n",
    "mae_test = mean_absolute_error(y_test,y_pred_test)\n",
    "print(\"Test MAE:\", round(mae_test, 2))"
   ]
  },
  {
   "cell_type": "code",
   "execution_count": 139,
   "id": "4f3d0b13",
   "metadata": {},
   "outputs": [
    {
     "name": "stdout",
     "output_type": "stream",
     "text": [
      "Model Score: 1.0\n"
     ]
    }
   ],
   "source": [
    "# Evaluate model\n",
    "print(\"Model Score:\", model.score(X_train, y_pred_training))"
   ]
  },
  {
   "cell_type": "code",
   "execution_count": 140,
   "id": "febda21e",
   "metadata": {},
   "outputs": [
    {
     "name": "stdout",
     "output_type": "stream",
     "text": [
      "PCA components shape: (9, 17)\n",
      "Original feature count: 17\n"
     ]
    }
   ],
   "source": [
    "# Exclude 'price' from numerical features before PCA\n",
    "original_feature_names = df3.select_dtypes(include=['number']).drop(columns=['price'], errors='ignore').columns.tolist()\n",
    "\n",
    "# Check dimensions\n",
    "print(f\"PCA components shape: {pca_opt.components_.shape}\")  # Should be (9, n_features)\n",
    "print(f\"Original feature count: {len(original_feature_names)}\")  # Should match n_features\n"
   ]
  },
  {
   "cell_type": "code",
   "execution_count": 141,
   "id": "81b13585",
   "metadata": {},
   "outputs": [
    {
     "name": "stdout",
     "output_type": "stream",
     "text": [
      "['symboling', 'normalized-losses', 'num-of-doors', 'wheel-base', 'length', 'width', 'height', 'curb-weight', 'num-of-cylinders', 'engine-size', 'bore', 'stroke', 'compression-ratio', 'horsepower', 'peak-rpm', 'city-mpg', 'highway-mpg']\n"
     ]
    }
   ],
   "source": [
    "print(original_feature_names)  # List all numerical features\n"
   ]
  },
  {
   "cell_type": "markdown",
   "id": "b69df5bd",
   "metadata": {},
   "source": [
    "#### PCA loadings matrix \n",
    "- shows how much each original feature contributes to each principal component (PC). "
   ]
  },
  {
   "cell_type": "code",
   "execution_count": 142,
   "id": "313e74d9",
   "metadata": {},
   "outputs": [
    {
     "name": "stdout",
     "output_type": "stream",
     "text": [
      "     symboling  normalized-losses  num-of-doors  wheel-base    length  \\\n",
      "PC1  -0.112303           0.007575      0.099965    0.304843  0.341126   \n",
      "PC2   0.402639           0.321268     -0.382936   -0.223387 -0.110723   \n",
      "PC3   0.216612           0.210554     -0.270958    0.014296 -0.021922   \n",
      "PC4   0.026464           0.331907      0.136222    0.196378  0.152946   \n",
      "PC5  -0.317422          -0.277440      0.187213   -0.073215 -0.113741   \n",
      "PC6  -0.069001           0.584412      0.128323    0.142661  0.081627   \n",
      "PC7   0.234242          -0.447759     -0.387958   -0.003797  0.031660   \n",
      "PC8  -0.195314          -0.007157      0.354571   -0.144292 -0.039027   \n",
      "PC9   0.549445          -0.149406      0.566800   -0.268135  0.047828   \n",
      "\n",
      "        width    height  curb-weight  num-of-cylinders  engine-size      bore  \\\n",
      "PC1  0.331838  0.128927     0.359207          0.238084     0.324037  0.258085   \n",
      "PC2 -0.034877 -0.390777     0.006828          0.120641     0.112820  0.015323   \n",
      "PC3  0.119329 -0.191200     0.093217          0.165711     0.198103 -0.093562   \n",
      "PC4  0.128463  0.098831     0.019190         -0.448204    -0.247597 -0.131092   \n",
      "PC5 -0.053375 -0.109778    -0.046747          0.438742     0.205756 -0.436877   \n",
      "PC6  0.101058  0.149243     0.018357          0.332717    -0.020598 -0.438426   \n",
      "PC7  0.101834  0.383774     0.061956          0.016398    -0.039764 -0.169044   \n",
      "PC8  0.022553 -0.484187     0.033645         -0.064145    -0.006616  0.320698   \n",
      "PC9 -0.039139 -0.011077     0.062447          0.020900    -0.072785 -0.312558   \n",
      "\n",
      "       stroke  compression-ratio  horsepower  peak-rpm  city-mpg  highway-mpg  \n",
      "PC1  0.050980           0.021273    0.292398 -0.096429 -0.297742    -0.312225  \n",
      "PC2 -0.008465          -0.296486    0.275510  0.293513 -0.235589    -0.197096  \n",
      "PC3  0.436186           0.533997   -0.028662 -0.354688  0.232775     0.208515  \n",
      "PC4  0.567292           0.018103   -0.104127  0.377130 -0.128582    -0.104204  \n",
      "PC5  0.439788          -0.204872    0.135694  0.257246  0.058446     0.052509  \n",
      "PC6 -0.446043           0.130242   -0.078381  0.190111  0.097762     0.079333  \n",
      "PC7 -0.109920           0.395193    0.113399  0.467113 -0.005212    -0.043079  \n",
      "PC8 -0.137754           0.495858    0.181940  0.404776  0.054930     0.076414  \n",
      "PC9 -0.020961           0.149000    0.018103 -0.219460 -0.256562    -0.185488  \n"
     ]
    }
   ],
   "source": [
    "pca_loadings = pd.DataFrame(\n",
    "    pca_opt.components_,\n",
    "    columns=original_feature_names, \n",
    "    index=[f'PC{i+1}' for i in range(len(pca_opt.components_))]\n",
    ")\n",
    "\n",
    "print(pca_loadings)\n"
   ]
  },
  {
   "cell_type": "markdown",
   "id": "53d1e028",
   "metadata": {},
   "source": [
    "#### With Out Using PCA"
   ]
  },
  {
   "cell_type": "markdown",
   "id": "f839f8f0",
   "metadata": {},
   "source": [
    "## Build Model"
   ]
  },
  {
   "cell_type": "markdown",
   "id": "f7f82035",
   "metadata": {},
   "source": [
    "### Split Data"
   ]
  },
  {
   "cell_type": "code",
   "execution_count": 143,
   "id": "ac1ccb8e",
   "metadata": {},
   "outputs": [],
   "source": [
    "target = \"price\"\n",
    "features=['symboling', 'normalized-losses', 'fuel-type', 'aspiration','num-of-doors', 'body-style', 'drive-wheels', 'engine-location','length', 'height', 'engine-type', 'num-of-cylinders', 'fuel-system','bore', 'compression-ratio', 'horsepower', 'peak-rpm', 'city-mpg']\n",
    "X_train=df_cleaned[features]\n",
    "y_train=df_cleaned[target]"
   ]
  },
  {
   "cell_type": "code",
   "execution_count": 144,
   "id": "0ae72a70",
   "metadata": {},
   "outputs": [],
   "source": [
    "X_train, X_test, y_train, y_test = train_test_split(X_train, y_train, test_size=0.2, random_state=42)"
   ]
  },
  {
   "cell_type": "markdown",
   "id": "598f7484",
   "metadata": {},
   "source": [
    "#### Base Line"
   ]
  },
  {
   "cell_type": "code",
   "execution_count": 145,
   "id": "853bb0df",
   "metadata": {},
   "outputs": [
    {
     "data": {
      "text/plain": [
       "12573.68125"
      ]
     },
     "execution_count": 145,
     "metadata": {},
     "output_type": "execute_result"
    }
   ],
   "source": [
    "y_mean=y_train.mean()\n",
    "y_mean"
   ]
  },
  {
   "cell_type": "code",
   "execution_count": 146,
   "id": "d840d1a7",
   "metadata": {},
   "outputs": [
    {
     "data": {
      "text/plain": [
       "[12573.68125, 12573.68125, 12573.68125, 12573.68125]"
      ]
     },
     "execution_count": 146,
     "metadata": {},
     "output_type": "execute_result"
    }
   ],
   "source": [
    "y_mean_baseline=[y_mean]*len(y_train)\n",
    "y_mean_baseline[:4]"
   ]
  },
  {
   "cell_type": "code",
   "execution_count": 147,
   "id": "849ac6e4",
   "metadata": {},
   "outputs": [
    {
     "data": {
      "text/plain": [
       "5036.0175"
      ]
     },
     "execution_count": 147,
     "metadata": {},
     "output_type": "execute_result"
    }
   ],
   "source": [
    "mae_base=mean_absolute_error(y_train,y_mean_baseline)\n",
    "mae_base"
   ]
  },
  {
   "cell_type": "markdown",
   "id": "a260e532",
   "metadata": {},
   "source": [
    "### Itrate\n",
    "Create a pipeline named model that contains\n",
    "- OneHotEncoder\n",
    "- Ridge Predictor"
   ]
  },
  {
   "cell_type": "code",
   "execution_count": 148,
   "id": "8f6ef632",
   "metadata": {},
   "outputs": [
    {
     "data": {
      "text/html": [
       "<style>#sk-container-id-6 {\n",
       "  /* Definition of color scheme common for light and dark mode */\n",
       "  --sklearn-color-text: black;\n",
       "  --sklearn-color-line: gray;\n",
       "  /* Definition of color scheme for unfitted estimators */\n",
       "  --sklearn-color-unfitted-level-0: #fff5e6;\n",
       "  --sklearn-color-unfitted-level-1: #f6e4d2;\n",
       "  --sklearn-color-unfitted-level-2: #ffe0b3;\n",
       "  --sklearn-color-unfitted-level-3: chocolate;\n",
       "  /* Definition of color scheme for fitted estimators */\n",
       "  --sklearn-color-fitted-level-0: #f0f8ff;\n",
       "  --sklearn-color-fitted-level-1: #d4ebff;\n",
       "  --sklearn-color-fitted-level-2: #b3dbfd;\n",
       "  --sklearn-color-fitted-level-3: cornflowerblue;\n",
       "\n",
       "  /* Specific color for light theme */\n",
       "  --sklearn-color-text-on-default-background: var(--sg-text-color, var(--theme-code-foreground, var(--jp-content-font-color1, black)));\n",
       "  --sklearn-color-background: var(--sg-background-color, var(--theme-background, var(--jp-layout-color0, white)));\n",
       "  --sklearn-color-border-box: var(--sg-text-color, var(--theme-code-foreground, var(--jp-content-font-color1, black)));\n",
       "  --sklearn-color-icon: #696969;\n",
       "\n",
       "  @media (prefers-color-scheme: dark) {\n",
       "    /* Redefinition of color scheme for dark theme */\n",
       "    --sklearn-color-text-on-default-background: var(--sg-text-color, var(--theme-code-foreground, var(--jp-content-font-color1, white)));\n",
       "    --sklearn-color-background: var(--sg-background-color, var(--theme-background, var(--jp-layout-color0, #111)));\n",
       "    --sklearn-color-border-box: var(--sg-text-color, var(--theme-code-foreground, var(--jp-content-font-color1, white)));\n",
       "    --sklearn-color-icon: #878787;\n",
       "  }\n",
       "}\n",
       "\n",
       "#sk-container-id-6 {\n",
       "  color: var(--sklearn-color-text);\n",
       "}\n",
       "\n",
       "#sk-container-id-6 pre {\n",
       "  padding: 0;\n",
       "}\n",
       "\n",
       "#sk-container-id-6 input.sk-hidden--visually {\n",
       "  border: 0;\n",
       "  clip: rect(1px 1px 1px 1px);\n",
       "  clip: rect(1px, 1px, 1px, 1px);\n",
       "  height: 1px;\n",
       "  margin: -1px;\n",
       "  overflow: hidden;\n",
       "  padding: 0;\n",
       "  position: absolute;\n",
       "  width: 1px;\n",
       "}\n",
       "\n",
       "#sk-container-id-6 div.sk-dashed-wrapped {\n",
       "  border: 1px dashed var(--sklearn-color-line);\n",
       "  margin: 0 0.4em 0.5em 0.4em;\n",
       "  box-sizing: border-box;\n",
       "  padding-bottom: 0.4em;\n",
       "  background-color: var(--sklearn-color-background);\n",
       "}\n",
       "\n",
       "#sk-container-id-6 div.sk-container {\n",
       "  /* jupyter's `normalize.less` sets `[hidden] { display: none; }`\n",
       "     but bootstrap.min.css set `[hidden] { display: none !important; }`\n",
       "     so we also need the `!important` here to be able to override the\n",
       "     default hidden behavior on the sphinx rendered scikit-learn.org.\n",
       "     See: https://github.com/scikit-learn/scikit-learn/issues/21755 */\n",
       "  display: inline-block !important;\n",
       "  position: relative;\n",
       "}\n",
       "\n",
       "#sk-container-id-6 div.sk-text-repr-fallback {\n",
       "  display: none;\n",
       "}\n",
       "\n",
       "div.sk-parallel-item,\n",
       "div.sk-serial,\n",
       "div.sk-item {\n",
       "  /* draw centered vertical line to link estimators */\n",
       "  background-image: linear-gradient(var(--sklearn-color-text-on-default-background), var(--sklearn-color-text-on-default-background));\n",
       "  background-size: 2px 100%;\n",
       "  background-repeat: no-repeat;\n",
       "  background-position: center center;\n",
       "}\n",
       "\n",
       "/* Parallel-specific style estimator block */\n",
       "\n",
       "#sk-container-id-6 div.sk-parallel-item::after {\n",
       "  content: \"\";\n",
       "  width: 100%;\n",
       "  border-bottom: 2px solid var(--sklearn-color-text-on-default-background);\n",
       "  flex-grow: 1;\n",
       "}\n",
       "\n",
       "#sk-container-id-6 div.sk-parallel {\n",
       "  display: flex;\n",
       "  align-items: stretch;\n",
       "  justify-content: center;\n",
       "  background-color: var(--sklearn-color-background);\n",
       "  position: relative;\n",
       "}\n",
       "\n",
       "#sk-container-id-6 div.sk-parallel-item {\n",
       "  display: flex;\n",
       "  flex-direction: column;\n",
       "}\n",
       "\n",
       "#sk-container-id-6 div.sk-parallel-item:first-child::after {\n",
       "  align-self: flex-end;\n",
       "  width: 50%;\n",
       "}\n",
       "\n",
       "#sk-container-id-6 div.sk-parallel-item:last-child::after {\n",
       "  align-self: flex-start;\n",
       "  width: 50%;\n",
       "}\n",
       "\n",
       "#sk-container-id-6 div.sk-parallel-item:only-child::after {\n",
       "  width: 0;\n",
       "}\n",
       "\n",
       "/* Serial-specific style estimator block */\n",
       "\n",
       "#sk-container-id-6 div.sk-serial {\n",
       "  display: flex;\n",
       "  flex-direction: column;\n",
       "  align-items: center;\n",
       "  background-color: var(--sklearn-color-background);\n",
       "  padding-right: 1em;\n",
       "  padding-left: 1em;\n",
       "}\n",
       "\n",
       "\n",
       "/* Toggleable style: style used for estimator/Pipeline/ColumnTransformer box that is\n",
       "clickable and can be expanded/collapsed.\n",
       "- Pipeline and ColumnTransformer use this feature and define the default style\n",
       "- Estimators will overwrite some part of the style using the `sk-estimator` class\n",
       "*/\n",
       "\n",
       "/* Pipeline and ColumnTransformer style (default) */\n",
       "\n",
       "#sk-container-id-6 div.sk-toggleable {\n",
       "  /* Default theme specific background. It is overwritten whether we have a\n",
       "  specific estimator or a Pipeline/ColumnTransformer */\n",
       "  background-color: var(--sklearn-color-background);\n",
       "}\n",
       "\n",
       "/* Toggleable label */\n",
       "#sk-container-id-6 label.sk-toggleable__label {\n",
       "  cursor: pointer;\n",
       "  display: block;\n",
       "  width: 100%;\n",
       "  margin-bottom: 0;\n",
       "  padding: 0.5em;\n",
       "  box-sizing: border-box;\n",
       "  text-align: center;\n",
       "}\n",
       "\n",
       "#sk-container-id-6 label.sk-toggleable__label-arrow:before {\n",
       "  /* Arrow on the left of the label */\n",
       "  content: \"▸\";\n",
       "  float: left;\n",
       "  margin-right: 0.25em;\n",
       "  color: var(--sklearn-color-icon);\n",
       "}\n",
       "\n",
       "#sk-container-id-6 label.sk-toggleable__label-arrow:hover:before {\n",
       "  color: var(--sklearn-color-text);\n",
       "}\n",
       "\n",
       "/* Toggleable content - dropdown */\n",
       "\n",
       "#sk-container-id-6 div.sk-toggleable__content {\n",
       "  max-height: 0;\n",
       "  max-width: 0;\n",
       "  overflow: hidden;\n",
       "  text-align: left;\n",
       "  /* unfitted */\n",
       "  background-color: var(--sklearn-color-unfitted-level-0);\n",
       "}\n",
       "\n",
       "#sk-container-id-6 div.sk-toggleable__content.fitted {\n",
       "  /* fitted */\n",
       "  background-color: var(--sklearn-color-fitted-level-0);\n",
       "}\n",
       "\n",
       "#sk-container-id-6 div.sk-toggleable__content pre {\n",
       "  margin: 0.2em;\n",
       "  border-radius: 0.25em;\n",
       "  color: var(--sklearn-color-text);\n",
       "  /* unfitted */\n",
       "  background-color: var(--sklearn-color-unfitted-level-0);\n",
       "}\n",
       "\n",
       "#sk-container-id-6 div.sk-toggleable__content.fitted pre {\n",
       "  /* unfitted */\n",
       "  background-color: var(--sklearn-color-fitted-level-0);\n",
       "}\n",
       "\n",
       "#sk-container-id-6 input.sk-toggleable__control:checked~div.sk-toggleable__content {\n",
       "  /* Expand drop-down */\n",
       "  max-height: 200px;\n",
       "  max-width: 100%;\n",
       "  overflow: auto;\n",
       "}\n",
       "\n",
       "#sk-container-id-6 input.sk-toggleable__control:checked~label.sk-toggleable__label-arrow:before {\n",
       "  content: \"▾\";\n",
       "}\n",
       "\n",
       "/* Pipeline/ColumnTransformer-specific style */\n",
       "\n",
       "#sk-container-id-6 div.sk-label input.sk-toggleable__control:checked~label.sk-toggleable__label {\n",
       "  color: var(--sklearn-color-text);\n",
       "  background-color: var(--sklearn-color-unfitted-level-2);\n",
       "}\n",
       "\n",
       "#sk-container-id-6 div.sk-label.fitted input.sk-toggleable__control:checked~label.sk-toggleable__label {\n",
       "  background-color: var(--sklearn-color-fitted-level-2);\n",
       "}\n",
       "\n",
       "/* Estimator-specific style */\n",
       "\n",
       "/* Colorize estimator box */\n",
       "#sk-container-id-6 div.sk-estimator input.sk-toggleable__control:checked~label.sk-toggleable__label {\n",
       "  /* unfitted */\n",
       "  background-color: var(--sklearn-color-unfitted-level-2);\n",
       "}\n",
       "\n",
       "#sk-container-id-6 div.sk-estimator.fitted input.sk-toggleable__control:checked~label.sk-toggleable__label {\n",
       "  /* fitted */\n",
       "  background-color: var(--sklearn-color-fitted-level-2);\n",
       "}\n",
       "\n",
       "#sk-container-id-6 div.sk-label label.sk-toggleable__label,\n",
       "#sk-container-id-6 div.sk-label label {\n",
       "  /* The background is the default theme color */\n",
       "  color: var(--sklearn-color-text-on-default-background);\n",
       "}\n",
       "\n",
       "/* On hover, darken the color of the background */\n",
       "#sk-container-id-6 div.sk-label:hover label.sk-toggleable__label {\n",
       "  color: var(--sklearn-color-text);\n",
       "  background-color: var(--sklearn-color-unfitted-level-2);\n",
       "}\n",
       "\n",
       "/* Label box, darken color on hover, fitted */\n",
       "#sk-container-id-6 div.sk-label.fitted:hover label.sk-toggleable__label.fitted {\n",
       "  color: var(--sklearn-color-text);\n",
       "  background-color: var(--sklearn-color-fitted-level-2);\n",
       "}\n",
       "\n",
       "/* Estimator label */\n",
       "\n",
       "#sk-container-id-6 div.sk-label label {\n",
       "  font-family: monospace;\n",
       "  font-weight: bold;\n",
       "  display: inline-block;\n",
       "  line-height: 1.2em;\n",
       "}\n",
       "\n",
       "#sk-container-id-6 div.sk-label-container {\n",
       "  text-align: center;\n",
       "}\n",
       "\n",
       "/* Estimator-specific */\n",
       "#sk-container-id-6 div.sk-estimator {\n",
       "  font-family: monospace;\n",
       "  border: 1px dotted var(--sklearn-color-border-box);\n",
       "  border-radius: 0.25em;\n",
       "  box-sizing: border-box;\n",
       "  margin-bottom: 0.5em;\n",
       "  /* unfitted */\n",
       "  background-color: var(--sklearn-color-unfitted-level-0);\n",
       "}\n",
       "\n",
       "#sk-container-id-6 div.sk-estimator.fitted {\n",
       "  /* fitted */\n",
       "  background-color: var(--sklearn-color-fitted-level-0);\n",
       "}\n",
       "\n",
       "/* on hover */\n",
       "#sk-container-id-6 div.sk-estimator:hover {\n",
       "  /* unfitted */\n",
       "  background-color: var(--sklearn-color-unfitted-level-2);\n",
       "}\n",
       "\n",
       "#sk-container-id-6 div.sk-estimator.fitted:hover {\n",
       "  /* fitted */\n",
       "  background-color: var(--sklearn-color-fitted-level-2);\n",
       "}\n",
       "\n",
       "/* Specification for estimator info (e.g. \"i\" and \"?\") */\n",
       "\n",
       "/* Common style for \"i\" and \"?\" */\n",
       "\n",
       ".sk-estimator-doc-link,\n",
       "a:link.sk-estimator-doc-link,\n",
       "a:visited.sk-estimator-doc-link {\n",
       "  float: right;\n",
       "  font-size: smaller;\n",
       "  line-height: 1em;\n",
       "  font-family: monospace;\n",
       "  background-color: var(--sklearn-color-background);\n",
       "  border-radius: 1em;\n",
       "  height: 1em;\n",
       "  width: 1em;\n",
       "  text-decoration: none !important;\n",
       "  margin-left: 1ex;\n",
       "  /* unfitted */\n",
       "  border: var(--sklearn-color-unfitted-level-1) 1pt solid;\n",
       "  color: var(--sklearn-color-unfitted-level-1);\n",
       "}\n",
       "\n",
       ".sk-estimator-doc-link.fitted,\n",
       "a:link.sk-estimator-doc-link.fitted,\n",
       "a:visited.sk-estimator-doc-link.fitted {\n",
       "  /* fitted */\n",
       "  border: var(--sklearn-color-fitted-level-1) 1pt solid;\n",
       "  color: var(--sklearn-color-fitted-level-1);\n",
       "}\n",
       "\n",
       "/* On hover */\n",
       "div.sk-estimator:hover .sk-estimator-doc-link:hover,\n",
       ".sk-estimator-doc-link:hover,\n",
       "div.sk-label-container:hover .sk-estimator-doc-link:hover,\n",
       ".sk-estimator-doc-link:hover {\n",
       "  /* unfitted */\n",
       "  background-color: var(--sklearn-color-unfitted-level-3);\n",
       "  color: var(--sklearn-color-background);\n",
       "  text-decoration: none;\n",
       "}\n",
       "\n",
       "div.sk-estimator.fitted:hover .sk-estimator-doc-link.fitted:hover,\n",
       ".sk-estimator-doc-link.fitted:hover,\n",
       "div.sk-label-container:hover .sk-estimator-doc-link.fitted:hover,\n",
       ".sk-estimator-doc-link.fitted:hover {\n",
       "  /* fitted */\n",
       "  background-color: var(--sklearn-color-fitted-level-3);\n",
       "  color: var(--sklearn-color-background);\n",
       "  text-decoration: none;\n",
       "}\n",
       "\n",
       "/* Span, style for the box shown on hovering the info icon */\n",
       ".sk-estimator-doc-link span {\n",
       "  display: none;\n",
       "  z-index: 9999;\n",
       "  position: relative;\n",
       "  font-weight: normal;\n",
       "  right: .2ex;\n",
       "  padding: .5ex;\n",
       "  margin: .5ex;\n",
       "  width: min-content;\n",
       "  min-width: 20ex;\n",
       "  max-width: 50ex;\n",
       "  color: var(--sklearn-color-text);\n",
       "  box-shadow: 2pt 2pt 4pt #999;\n",
       "  /* unfitted */\n",
       "  background: var(--sklearn-color-unfitted-level-0);\n",
       "  border: .5pt solid var(--sklearn-color-unfitted-level-3);\n",
       "}\n",
       "\n",
       ".sk-estimator-doc-link.fitted span {\n",
       "  /* fitted */\n",
       "  background: var(--sklearn-color-fitted-level-0);\n",
       "  border: var(--sklearn-color-fitted-level-3);\n",
       "}\n",
       "\n",
       ".sk-estimator-doc-link:hover span {\n",
       "  display: block;\n",
       "}\n",
       "\n",
       "/* \"?\"-specific style due to the `<a>` HTML tag */\n",
       "\n",
       "#sk-container-id-6 a.estimator_doc_link {\n",
       "  float: right;\n",
       "  font-size: 1rem;\n",
       "  line-height: 1em;\n",
       "  font-family: monospace;\n",
       "  background-color: var(--sklearn-color-background);\n",
       "  border-radius: 1rem;\n",
       "  height: 1rem;\n",
       "  width: 1rem;\n",
       "  text-decoration: none;\n",
       "  /* unfitted */\n",
       "  color: var(--sklearn-color-unfitted-level-1);\n",
       "  border: var(--sklearn-color-unfitted-level-1) 1pt solid;\n",
       "}\n",
       "\n",
       "#sk-container-id-6 a.estimator_doc_link.fitted {\n",
       "  /* fitted */\n",
       "  border: var(--sklearn-color-fitted-level-1) 1pt solid;\n",
       "  color: var(--sklearn-color-fitted-level-1);\n",
       "}\n",
       "\n",
       "/* On hover */\n",
       "#sk-container-id-6 a.estimator_doc_link:hover {\n",
       "  /* unfitted */\n",
       "  background-color: var(--sklearn-color-unfitted-level-3);\n",
       "  color: var(--sklearn-color-background);\n",
       "  text-decoration: none;\n",
       "}\n",
       "\n",
       "#sk-container-id-6 a.estimator_doc_link.fitted:hover {\n",
       "  /* fitted */\n",
       "  background-color: var(--sklearn-color-fitted-level-3);\n",
       "}\n",
       "</style><div id=\"sk-container-id-6\" class=\"sk-top-container\"><div class=\"sk-text-repr-fallback\"><pre>Pipeline(steps=[(&#x27;onehotencoder&#x27;,\n",
       "                 OneHotEncoder(cols=[&#x27;fuel-type&#x27;, &#x27;aspiration&#x27;, &#x27;body-style&#x27;,\n",
       "                                     &#x27;drive-wheels&#x27;, &#x27;engine-location&#x27;,\n",
       "                                     &#x27;engine-type&#x27;, &#x27;fuel-system&#x27;],\n",
       "                               use_cat_names=True)),\n",
       "                (&#x27;ridge&#x27;, Ridge())])</pre><b>In a Jupyter environment, please rerun this cell to show the HTML representation or trust the notebook. <br />On GitHub, the HTML representation is unable to render, please try loading this page with nbviewer.org.</b></div><div class=\"sk-container\" hidden><div class=\"sk-item sk-dashed-wrapped\"><div class=\"sk-label-container\"><div class=\"sk-label fitted sk-toggleable\"><input class=\"sk-toggleable__control sk-hidden--visually\" id=\"sk-estimator-id-17\" type=\"checkbox\" ><label for=\"sk-estimator-id-17\" class=\"sk-toggleable__label fitted sk-toggleable__label-arrow fitted\">&nbsp;&nbsp;Pipeline<a class=\"sk-estimator-doc-link fitted\" rel=\"noreferrer\" target=\"_blank\" href=\"https://scikit-learn.org/1.5/modules/generated/sklearn.pipeline.Pipeline.html\">?<span>Documentation for Pipeline</span></a><span class=\"sk-estimator-doc-link fitted\">i<span>Fitted</span></span></label><div class=\"sk-toggleable__content fitted\"><pre>Pipeline(steps=[(&#x27;onehotencoder&#x27;,\n",
       "                 OneHotEncoder(cols=[&#x27;fuel-type&#x27;, &#x27;aspiration&#x27;, &#x27;body-style&#x27;,\n",
       "                                     &#x27;drive-wheels&#x27;, &#x27;engine-location&#x27;,\n",
       "                                     &#x27;engine-type&#x27;, &#x27;fuel-system&#x27;],\n",
       "                               use_cat_names=True)),\n",
       "                (&#x27;ridge&#x27;, Ridge())])</pre></div> </div></div><div class=\"sk-serial\"><div class=\"sk-item\"><div class=\"sk-estimator fitted sk-toggleable\"><input class=\"sk-toggleable__control sk-hidden--visually\" id=\"sk-estimator-id-18\" type=\"checkbox\" ><label for=\"sk-estimator-id-18\" class=\"sk-toggleable__label fitted sk-toggleable__label-arrow fitted\">OneHotEncoder</label><div class=\"sk-toggleable__content fitted\"><pre>OneHotEncoder(cols=[&#x27;fuel-type&#x27;, &#x27;aspiration&#x27;, &#x27;body-style&#x27;, &#x27;drive-wheels&#x27;,\n",
       "                    &#x27;engine-location&#x27;, &#x27;engine-type&#x27;, &#x27;fuel-system&#x27;],\n",
       "              use_cat_names=True)</pre></div> </div></div><div class=\"sk-item\"><div class=\"sk-estimator fitted sk-toggleable\"><input class=\"sk-toggleable__control sk-hidden--visually\" id=\"sk-estimator-id-19\" type=\"checkbox\" ><label for=\"sk-estimator-id-19\" class=\"sk-toggleable__label fitted sk-toggleable__label-arrow fitted\">&nbsp;Ridge<a class=\"sk-estimator-doc-link fitted\" rel=\"noreferrer\" target=\"_blank\" href=\"https://scikit-learn.org/1.5/modules/generated/sklearn.linear_model.Ridge.html\">?<span>Documentation for Ridge</span></a></label><div class=\"sk-toggleable__content fitted\"><pre>Ridge()</pre></div> </div></div></div></div></div></div>"
      ],
      "text/plain": [
       "Pipeline(steps=[('onehotencoder',\n",
       "                 OneHotEncoder(cols=['fuel-type', 'aspiration', 'body-style',\n",
       "                                     'drive-wheels', 'engine-location',\n",
       "                                     'engine-type', 'fuel-system'],\n",
       "                               use_cat_names=True)),\n",
       "                ('ridge', Ridge())])"
      ]
     },
     "execution_count": 148,
     "metadata": {},
     "output_type": "execute_result"
    }
   ],
   "source": [
    "model = make_pipeline(OneHotEncoder(use_cat_names=True),Ridge())\n",
    "model.fit(X_train,y_train)"
   ]
  },
  {
   "cell_type": "markdown",
   "id": "691487af",
   "metadata": {},
   "source": [
    "### Evaluate"
   ]
  },
  {
   "cell_type": "code",
   "execution_count": 96,
   "id": "008965e3",
   "metadata": {},
   "outputs": [
    {
     "name": "stdout",
     "output_type": "stream",
     "text": [
      "Training MAE: 1688.8572842249328\n"
     ]
    }
   ],
   "source": [
    "y_pred_itrate=model.predict(X_train)\n",
    "maeI=mean_absolute_error(y_train,y_pred_itrate)\n",
    "print(\"Training MAE:\",maeI)"
   ]
  },
  {
   "cell_type": "markdown",
   "id": "65772488",
   "metadata": {},
   "source": [
    "That is very nice, in baseline modeling the mae was 5036.0175 but now we found Training MAE: 1554.7073103090836 ,bien!"
   ]
  },
  {
   "cell_type": "markdown",
   "id": "074b7324",
   "metadata": {},
   "source": [
    "### Model Score-Train"
   ]
  },
  {
   "cell_type": "code",
   "execution_count": null,
   "id": "d904cd0b",
   "metadata": {},
   "outputs": [
    {
     "name": "stdout",
     "output_type": "stream",
     "text": [
      "Model Score: 0.8532676214656487\n"
     ]
    }
   ],
   "source": [
    "# Evaluate model\n",
    "print(\"Model Score:\", model.score(X_train, y_train))"
   ]
  },
  {
   "cell_type": "markdown",
   "id": "55e53271",
   "metadata": {},
   "source": [
    "### Generalization\n",
    "- If we found another data with similar features we can generalize our data"
   ]
  },
  {
   "cell_type": "code",
   "execution_count": null,
   "id": "2a6302c8",
   "metadata": {},
   "outputs": [
    {
     "data": {
      "text/plain": [
       "0     7670.339353\n",
       "1    29456.645642\n",
       "2     4766.195719\n",
       "3     6888.438415\n",
       "4    14771.393451\n",
       "dtype: float64"
      ]
     },
     "execution_count": 343,
     "metadata": {},
     "output_type": "execute_result"
    }
   ],
   "source": [
    "y_pred_test = pd.Series(model.predict(X_test))\n",
    "y_pred_test.head()"
   ]
  },
  {
   "cell_type": "code",
   "execution_count": null,
   "id": "133bcf63",
   "metadata": {},
   "outputs": [
    {
     "name": "stdout",
     "output_type": "stream",
     "text": [
      "Testing MAE: 2578.8671526477992\n"
     ]
    }
   ],
   "source": [
    "maeIT=mean_absolute_error(y_test,y_pred_test)\n",
    "print(\"Testing MAE:\",maeIT)"
   ]
  },
  {
   "cell_type": "markdown",
   "id": "e6c86e1a",
   "metadata": {},
   "source": [
    "### Model Score-Test"
   ]
  },
  {
   "cell_type": "code",
   "execution_count": null,
   "id": "bb032b4f",
   "metadata": {},
   "outputs": [
    {
     "name": "stdout",
     "output_type": "stream",
     "text": [
      "Model Score: 0.8969712593244178\n"
     ]
    }
   ],
   "source": [
    "# Evaluate model\n",
    "print(\"Model Score:\", model.score(X_test, y_test))"
   ]
  },
  {
   "cell_type": "code",
   "execution_count": null,
   "id": "b2e86694",
   "metadata": {},
   "outputs": [
    {
     "name": "stdout",
     "output_type": "stream",
     "text": [
      "Cross-Validation MAE: 2251.0222672407244\n"
     ]
    }
   ],
   "source": [
    "scores = cross_val_score(model, X_train, y_train, scoring='neg_mean_absolute_error', cv=5)\n",
    "print(\"Cross-Validation MAE:\", -scores.mean())"
   ]
  },
  {
   "cell_type": "markdown",
   "id": "c44693c8",
   "metadata": {},
   "source": [
    "🎯  Model Performance Analysis\n",
    "\n",
    "    Training MAE: 1963.339253271781\n",
    "    Testing MAE: 2578.8671526477992\n",
    "    Cross-Validation MAE: 2251.0222672407244\n",
    "\n",
    "🔍 Model Performance Analysis Interpretation\n",
    "\n",
    "    Training MAE (1963.34)\n",
    "        The model performs well on training data, meaning it fits the training data with a reasonable error.\n",
    "\n",
    "    Testing MAE (2578.87)\n",
    "        The error is higher on the test set compared to training, suggesting some level of overfitting—the model may be learning patterns specific to the training data that do not generalize well to unseen data.\n",
    "\n",
    "    Cross-Validation MAE (2251.02)\n",
    "        This error falls between training and testing MAE, which is a good sign.\n",
    "        If CV MAE was much lower than Testing MAE, it would indicate the model is not generalizing well.\n",
    "        Here, it suggests that the model's performance is somewhat stable across different subsets of data.\n",
    "\n",
    "Next Steps for Improvement\n",
    "\n",
    "🚀 If Overfitting is a Concern:\n",
    "\n",
    "    Try increasing regularization strength (alpha) in Ridge Regression.\n",
    "    Reduce multicollinearity (drop or combine highly correlated features).\n",
    "    Consider feature selection (Lasso Regression).\n",
    "\n",
    "🚀 If Underfitting is a Concern:\n",
    "\n",
    "    Try using a more complex model (e.g., polynomial features, decision trees).\n",
    "    Allow the model to learn more expressive patterns (reduce regularization slightly). MAE is also close to the testing MAE, indicating the model is not overfitting significantly."
   ]
  },
  {
   "cell_type": "markdown",
   "id": "8fa10b9f",
   "metadata": {},
   "source": [
    "### Communication"
   ]
  },
  {
   "cell_type": "code",
   "execution_count": 150,
   "id": "a7a8a3b8",
   "metadata": {},
   "outputs": [
    {
     "name": "stdout",
     "output_type": "stream",
     "text": [
      "features len: 39\n",
      "['symboling' 'normalized-losses' 'fuel-type_gas' 'fuel-type_diesel'\n",
      " 'aspiration_std']\n"
     ]
    }
   ],
   "source": [
    "feature_names = model.named_steps[\"onehotencoder\"].get_feature_names_out()\n",
    "print(\"features len:\", len(feature_names))\n",
    "print(feature_names[:5])  # First five feature names"
   ]
  },
  {
   "cell_type": "markdown",
   "id": "8b0d259c",
   "metadata": {},
   "source": [
    "#### Coefficients"
   ]
  },
  {
   "cell_type": "code",
   "execution_count": 156,
   "id": "31f8d55a",
   "metadata": {},
   "outputs": [
    {
     "name": "stdout",
     "output_type": "stream",
     "text": [
      "Intercept: -53670.22251345553\n",
      "coefficients len: 39\n",
      "[  599.55547766     4.26509303 -1553.66614636  1553.66614636\n",
      "  -457.09865795]\n"
     ]
    }
   ],
   "source": [
    "intercept = model.named_steps[\"ridge\"].intercept_\n",
    "coefficients = model.named_steps[\"ridge\"].coef_\n",
    "print(\"Intercept:\", intercept)\n",
    "print(\"coefficients len:\", len(coefficients))\n",
    "print(coefficients[:5])  # First five coefficients"
   ]
  },
  {
   "cell_type": "markdown",
   "id": "89ce35bc",
   "metadata": {},
   "source": [
    "##### Important Features"
   ]
  },
  {
   "cell_type": "code",
   "execution_count": 159,
   "id": "f683a391",
   "metadata": {},
   "outputs": [
    {
     "data": {
      "text/plain": [
       "symboling             599.555478\n",
       "normalized-losses       4.265093\n",
       "fuel-type_gas       -1553.666146\n",
       "fuel-type_diesel     1553.666146\n",
       "aspiration_std       -457.098658\n",
       "dtype: float64"
      ]
     },
     "execution_count": 159,
     "metadata": {},
     "output_type": "execute_result"
    }
   ],
   "source": [
    "feat_imp = pd.Series(coefficients,index=feature_names)\n",
    "feat_imp.head()"
   ]
  },
  {
   "cell_type": "code",
   "execution_count": 160,
   "id": "eeae78bb",
   "metadata": {},
   "outputs": [
    {
     "name": "stdout",
     "output_type": "stream",
     "text": [
      "price = -53670.22\n",
      "+ (599.56 * symboling)\n",
      "+ (4.27 * normalized-losses)\n",
      "+ (-1553.67 * fuel-type_gas)\n",
      "+ (1553.67 * fuel-type_diesel)\n",
      "+ (-457.1 * aspiration_std)\n",
      "+ (457.1 * aspiration_turbo)\n",
      "+ (643.9 * num-of-doors)\n",
      "+ (-990.45 * body-style_sedan)\n",
      "+ (-303.31 * body-style_hatchback)\n",
      "+ (-2831.03 * body-style_wagon)\n",
      "+ (1431.7 * body-style_hardtop)\n",
      "+ (2693.08 * body-style_convertible)\n",
      "+ (1449.07 * drive-wheels_rwd)\n",
      "+ (-1018.42 * drive-wheels_fwd)\n",
      "+ (-430.65 * drive-wheels_4wd)\n",
      "+ (-2333.34 * engine-location_front)\n",
      "+ (2333.34 * engine-location_rear)\n",
      "+ (169.83 * length)\n",
      "+ (286.6 * height)\n",
      "+ (-2060.92 * engine-type_ohcv)\n",
      "+ (827.77 * engine-type_ohc)\n",
      "+ (453.6 * engine-type_ohcf)\n",
      "+ (-437.52 * engine-type_l)\n",
      "+ (-1547.38 * engine-type_dohc)\n",
      "+ (2764.44 * engine-type_rotor)\n",
      "+ (3209.8 * num-of-cylinders)\n",
      "+ (-477.56 * fuel-system_mpfi)\n",
      "+ (344.77 * fuel-system_1bbl)\n",
      "+ (-912.74 * fuel-system_2bbl)\n",
      "+ (1553.67 * fuel-system_idi)\n",
      "+ (-1379.53 * fuel-system_spdi)\n",
      "+ (-979.5 * fuel-system_mfi)\n",
      "+ (-913.55 * fuel-system_spfi)\n",
      "+ (2764.44 * fuel-system_4bbl)\n",
      "+ (1706.91 * bore)\n",
      "+ (-341.04 * compression-ratio)\n",
      "+ (39.81 * horsepower)\n",
      "+ (0.44 * peak-rpm)\n",
      "+ (22.92 * city-mpg)\n"
     ]
    }
   ],
   "source": [
    "print(f\"price = {intercept.round(2)}\")\n",
    "for f, c in feat_imp.items():\n",
    "    print(f\"+ ({round(c, 2)} * {f})\")"
   ]
  },
  {
   "cell_type": "code",
   "execution_count": 162,
   "id": "a3672ba3",
   "metadata": {},
   "outputs": [
    {
     "data": {
      "text/plain": [
       "Text(0.5, 1.0, 'Feature importance for Car Price')"
      ]
     },
     "execution_count": 162,
     "metadata": {},
     "output_type": "execute_result"
    },
    {
     "data": {
      "image/png": "[encoded data removed]",
      "text/plain": [
       "<Figure size 640x480 with 1 Axes>"
      ]
     },
     "metadata": {},
     "output_type": "display_data"
    }
   ],
   "source": [
    "feat_imp.sort_values(key=abs).tail(15).plot(kind=\"barh\")\n",
    "plt.xlabel(\"Importance [USD]\")\n",
    "plt.ylabel(\"Feature\")\n",
    "plt.title(\"Feature importance for Car Price\")"
   ]
  },
  {
   "cell_type": "markdown",
   "id": "1a52ab8d",
   "metadata": {},
   "source": [
    "Looking at this bar chart, we can see that the features of car like Number of cylinder and 4bbl fuel system, rotor engine type, convertible body style,engine location rear increase the predicted price of an apartment, while  like wagon body style and engine location rear decrease the predicted price. "
   ]
  },
  {
   "cell_type": "code",
   "execution_count": 165,
   "id": "1c1c8863",
   "metadata": {},
   "outputs": [
    {
     "data": {
      "text/plain": [
       "array([ 5.99555478e+02,  4.26509303e+00, -1.55366615e+03,  1.55366615e+03,\n",
       "       -4.57098658e+02,  4.57098658e+02,  6.43899765e+02, -9.90447915e+02,\n",
       "       -3.03308620e+02, -2.83102519e+03,  1.43169900e+03,  2.69308273e+03,\n",
       "        1.44906609e+03, -1.01842086e+03, -4.30645231e+02, -2.33334010e+03,\n",
       "        2.33334010e+03,  1.69833178e+02,  2.86603357e+02, -2.06091686e+03,\n",
       "        8.27772760e+02,  4.53603233e+02, -4.37519401e+02, -1.54738276e+03,\n",
       "        2.76444303e+03,  3.20980184e+03, -4.77557685e+02,  3.44771051e+02,\n",
       "       -9.12742753e+02,  1.55366615e+03, -1.37953079e+03, -9.79495611e+02,\n",
       "       -9.13553390e+02,  2.76444303e+03,  1.70690564e+03, -3.41041524e+02,\n",
       "        3.98147234e+01,  4.40848617e-01,  2.29170345e+01])"
      ]
     },
     "execution_count": 165,
     "metadata": {},
     "output_type": "execute_result"
    }
   ],
   "source": [
    "feat_imp.values"
   ]
  },
  {
   "cell_type": "code",
   "execution_count": 166,
   "id": "ad37f423",
   "metadata": {},
   "outputs": [
    {
     "data": {
      "text/plain": [
       "39"
      ]
     },
     "execution_count": 166,
     "metadata": {},
     "output_type": "execute_result"
    }
   ],
   "source": [
    "len(feat_imp)"
   ]
  },
  {
   "cell_type": "code",
   "execution_count": 167,
   "id": "8ada7b39",
   "metadata": {},
   "outputs": [
    {
     "name": "stdout",
     "output_type": "stream",
     "text": [
      "[599.5554776566489, 4.265093029112296, -1553.6661463623589, 1553.6661463623611, -457.0986579493434, 457.09865794932233, 643.8997654206768, -990.4479154546409, -303.3086199586419, -2831.025192825307, 1431.6990020525475, 2693.0827261863014, 1449.0660877593284, -1018.4208563230704, -430.64523143651036]\n"
     ]
    }
   ],
   "source": [
    "data=[]\n",
    "for c in feat_imp.values:\n",
    "    if len(data)<15:\n",
    "        data.append(c)\n",
    "print(data)"
   ]
  },
  {
   "cell_type": "code",
   "execution_count": 168,
   "id": "a1d807e3",
   "metadata": {},
   "outputs": [
    {
     "data": {
      "text/plain": [
       "15"
      ]
     },
     "execution_count": 168,
     "metadata": {},
     "output_type": "execute_result"
    }
   ],
   "source": [
    "len(data)"
   ]
  },
  {
   "cell_type": "markdown",
   "id": "3a29d99a",
   "metadata": {},
   "source": [
    "If you want to check with LinearRegression just replace \"Ridge\" with \"LinearRegression\""
   ]
  }
 ],
 "metadata": {
  "kernelspec": {
   "display_name": "Python 3",
   "language": "python",
   "name": "python3"
  },
  "language_info": {
   "codemirror_mode": {
    "name": "ipython",
    "version": 3
   },
   "file_extension": ".py",
   "mimetype": "text/x-python",
   "name": "python",
   "nbconvert_exporter": "python",
   "pygments_lexer": "ipython3",
   "version": "3.11.8"
  }
 },
 "nbformat": 4,
 "nbformat_minor": 5
}
